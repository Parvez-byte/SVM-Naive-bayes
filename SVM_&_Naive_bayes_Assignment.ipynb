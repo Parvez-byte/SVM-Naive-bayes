{
  "nbformat": 4,
  "nbformat_minor": 0,
  "metadata": {
    "colab": {
      "provenance": []
    },
    "kernelspec": {
      "name": "python3",
      "display_name": "Python 3"
    },
    "language_info": {
      "name": "python"
    }
  },
  "cells": [
    {
      "cell_type": "markdown",
      "source": [
        "#SVM & Naive bayes"
      ],
      "metadata": {
        "id": "unvyQjxuVu5e"
      }
    },
    {
      "cell_type": "markdown",
      "source": [
        "1. What is a Support Vector Machine (SVM)?\n",
        "- A Support Vector Machine (SVM) is a supervised machine learning algorithm used for classification and regression tasks, though it is more commonly used for classification problems.\n",
        "- At its core, SVM tries to find the optimal hyperplane that best separates the data points of different classes in a feature space. The optimal hyperplane is the one that maximizes the margin between the classes, where the margin is the distance between the hyperplane and the nearest data points from each class. These nearest points are known as support vectors.\n",
        "\n",
        "- Key Concepts >>\n",
        " - Linear SVM: Used when the data is linearly separable. It finds a straight line (in 2D) or a plane (in 3D and higher) to separate classes.\n",
        " - Non-linear SVM: Used when data is not linearly separable. It uses a technique called the kernel trick to map data into a higher-dimensional space where a linear separator might exist.\n",
        " - Kernels: Functions like polynomial, radial basis function (RBF), or sigmoid used to transform data for non-linear classification.\n",
        " - Margin: The gap between the closest data points (support vectors) of different classes and the hyperplane. SVM aims to maximize this margin."
      ],
      "metadata": {
        "id": "nuNDr-t1XbU1"
      }
    },
    {
      "cell_type": "markdown",
      "source": [
        "2. What is the difference between Hard Margin and Soft Margin SVM?\n",
        "- The difference between Hard Margin SVM and Soft Margin SVM lies in how strictly they separate the data points and how they handle misclassifications or overlap in data.\n",
        "\n",
        "\n",
        "- Hard Margin SVM >>\n",
        "  - Definition: Hard Margin SVM is used when the data is perfectly linearly separable—meaning, there is a clear boundary with no misclassification or overlap between the classes.\n",
        "  - Behavior: It finds the maximum-margin hyperplane with no tolerance for misclassified data points.\n",
        "  - Requirement: The data must be completely separable, otherwise, it will fail or overfit.\n",
        "  - Data Requirement: Perfectly linearly separable\n",
        "  - Misclassification: Not allowed\n",
        "  - Flexibility: Less flexible\n",
        "  - Risk of Overfitting: High on noisy data\n",
        "  - Use Case: Only ideal when the dataset is clean and has no noise.\n",
        "\n",
        "\n",
        "- Soft Margin SVM >>\n",
        "  - Definition: Soft Margin SVM allows some misclassifications or overlap by introducing a penalty for data points that lie within the margin or are misclassified.\n",
        "  - Behavior: It adds a regularization parameter (C) that controls the trade-off between maximizing the margin and minimizing classification error.\n",
        "    - A lower C gives a wider margin but allows more misclassifications.\n",
        "    - A higher C tries to reduce misclassifications but may lead to a smaller margin or overfitting.\n",
        "  - Data Requirement: Can handle overlapping/noisy data\n",
        "  - Misclassification: Allowed with penalty\n",
        "  - Flexibility: More flexible\n",
        "  - Risk of Overfitting: Lower due to controlled misclassification\n",
        "  - Use Case: Suitable for real-world data that is noisy or not linearly separable."
      ],
      "metadata": {
        "id": "46TYSQSrXcJe"
      }
    },
    {
      "cell_type": "markdown",
      "source": [
        "3. What is the mathematical intuition behind SVM?\n",
        "- The mathematical intuition behind SVM revolves around finding the hyperplane that best separates data points of different classes by maximizing the margin between them. Here's a step-by-step breakdown:\n",
        "- Goal of SVM:SVM seeks a hyperplane (a line in 2D, a plane in 3D, etc.) that divides the dataset into two classes with the widest possible margin.\n",
        "- Equation of the Hyperplane:\n",
        "           A hyperplane can be written as:\n",
        "                          wᵀx + b = 0\n",
        "                          w: weight vector (defines the orientation of the hyperplane)\n",
        "                          x: feature vector\n",
        "                          b: bias (offset from the origin)\n",
        "\n",
        "- Decision Rule:\n",
        "  - If wᵀx + b ≥ +1, classify as Class 1\n",
        "  - If wᵀx + b ≤ -1, classify as Class -1\n",
        "  - The points satisfying wᵀx + b = ±1 lie on the margin boundaries\n",
        "  - The region between these two lines is the margin\n",
        "\n",
        "- Margin and Optimization:\n",
        "        The distance between the two margin boundaries is:\n",
        "        Margin = 2 / ||w||\n",
        "        So, to maximize the margin, we minimize ||w||², subject to constraints:\n",
        "        yᵢ (wᵀxᵢ + b) ≥ 1  for all i\n",
        "        Where:\n",
        "        yᵢ: actual class label (+1 or -1)\n",
        "        xᵢ: feature vector for the ith sample\n",
        "        This is a convex quadratic optimization problem with linear constraints.\n",
        "\n",
        "- Soft Margin (with Slack Variables):For noisy or overlapping data, we introduce slack variables ξᵢ to allow some points to be inside the margin or misclassified:\n",
        "        yᵢ (wᵀxᵢ + b) ≥ 1 - ξᵢ   and   ξᵢ ≥ 0\n",
        "        The modified objective becomes:\n",
        "        Minimize (1/2) * ||w||² + C * Σ ξᵢ\n",
        "        C: Regularization parameter controlling margin vs. misclassification\n",
        "\n",
        "- Non-Linear SVM with Kernel Trick:\n",
        "If data is not linearly separable, SVM uses kernel functions to transform it into a higher-dimensional space where a linear hyperplane can separate it:\n",
        "        K(xᵢ, xⱼ) = φ(xᵢ)ᵀ φ(xⱼ)\n",
        "        Common kernels: RBF, Polynomial, Sigmoid\n",
        "\n",
        "\n",
        "\n"
      ],
      "metadata": {
        "id": "gN3QCmKuXcVu"
      }
    },
    {
      "cell_type": "markdown",
      "source": [
        "4. What is the role of Lagrange Multipliers in SVM?\n",
        "- Lagrange Multipliers play a central role in the mathematical formulation of SVM by helping solve the constrained optimization problem efficiently. They convert the original problem of finding the optimal hyperplane into a form that can be solved using dual optimization.\n",
        "\n",
        "- Why Lagrange Multipliers Are Needed: In SVM, we aim to:\n",
        "           Minimize: (1/2) * ||w||²  \n",
        "           Subject to the constraint: yᵢ (wᵀxᵢ + b) ≥ 1\n",
        "  This is a convex optimization problem with inequality constraints. Such problems are typically solved using Lagrange Multipliers, which help incorporate the constraints into the objective function.\n",
        "\n",
        "- Constructing the Lagrangian:We define the Lagrangian function using Lagrange multipliers αᵢ ≥ 0 (one for each data point):\n",
        "          L(w, b, α) = (1/2) * ||w||² - Σ αᵢ [yᵢ (wᵀxᵢ + b) - 1]\n",
        "          Here:\n",
        "          αᵢ: Lagrange multiplier for each constraint\n",
        "          L: Lagrangian function\n",
        "\n",
        "- Dual Problem and Optimization:\n",
        "By applying the Karush-Kuhn-Tucker (KKT) conditions, we convert the problem into its dual form, which depends only on αᵢ, not on w and b:\n",
        "          Maximize:Σ αᵢ - (1/2) Σ Σ αᵢ αⱼ yᵢ yⱼ xᵢᵀ xⱼ\n",
        "          Subject to:\n",
        "          Σ αᵢ yᵢ = 0, and αᵢ ≥ 0\n",
        "This dual formulation is easier to solve and also makes it possible to apply the kernel trick in non-linear SVMs.\n",
        "\n",
        "- Support Vectors and Lagrange Multipliers:\n",
        "  - Data points with αᵢ > 0 are the support vectors.\n",
        "  - These are the only points that influence the decision boundary.\n",
        "  - Other points (with αᵢ = 0) lie far from the margin and do not affect the model.\n",
        "\n",
        "- Lagrange multipliers help incorporate constraints into the optimization problem.\n",
        "- They allow the transformation of the primal problem into the dual problem.\n",
        "- They reveal which data points are support vectors.\n",
        "- They make it possible to implement kernel-based SVMs for non-linear classification.\n"
      ],
      "metadata": {
        "id": "c5_IX4yjXcgg"
      }
    },
    {
      "cell_type": "markdown",
      "source": [
        "5. What are Support Vectors in SVM?\n",
        "- Support Vectors are the critical data points in a dataset that lie closest to the decision boundary (hyperplane) in a Support Vector Machine (SVM). They are the most influential samples that directly determine the position and orientation of the separating hyperplane.\n",
        "\n",
        "- Definition:Support vectors are those data points for which the SVM constraint:\n",
        "           yᵢ (wᵀxᵢ + b) = 1\n",
        " is exactly satisfied. These points lie on the margin boundaries, and the SVM uses them to construct the optimal hyperplane.\n",
        "\n",
        "- Role in SVM:\n",
        "   - They maximize the margin between classes.\n",
        "   - The SVM model depends only on these vectors; all other data points have no effect on the final model.\n",
        "   - If you remove non-support vectors, the hyperplane remains unchanged.But if you remove even one support vector, the hyperplane may shift.\n",
        "\n",
        "- Identified by Lagrange Multipliers:\n",
        "In the dual formulation of SVM, support vectors correspond to data points with non-zero Lagrange multipliers (αᵢ > 0).\n",
        "\n",
        "- Geometric Intuition:\n",
        "Imagine drawing the widest possible boundary between two classes — the data points that touch this boundary are the support vectors. They form the \"support\" for the margin, like pillars holding up a roof.\n",
        "\n",
        "- Why Important:\n",
        "  - hey make the model robust and efficient, since only a subset of the data affects the outcome.\n",
        "  - Understanding which points are support vectors helps in model interpretation and dimensionality reduction.\n",
        "\n",
        "- Support vectors are the closest data points to the decision boundary.\n",
        "- They are the only points used to determine the optimal hyperplane.\n",
        "- Their removal can change the classifier's decision boundary.\n",
        "- Identified as points with non-zero Lagrange multipliers."
      ],
      "metadata": {
        "id": "NhbPZY9sXcpo"
      }
    },
    {
      "cell_type": "markdown",
      "source": [
        "6. What is a Support Vector Classifier (SVC)?\n",
        "- A Support Vector Classifier (SVC) is the classification version of the Support Vector Machine (SVM) algorithm. It is designed to classify data into categories by finding the optimal hyperplane that separates different classes with the maximum margin. SVC is especially effective for binary classification, but can also be extended to multi-class problems.\n",
        "\n",
        "- Basic Idea:\n",
        " - SVC tries to find a decision boundary (hyperplane) that:\n",
        "   - Separates classes as clearly as possible\n",
        "   - Maximizes the margin, i.e., the distance between the boundary and the nearest data points (support vectors)\n",
        "\n",
        "- Mathematical Formulation:\n",
        "          Minimize: (1/2) * ||w||²  \n",
        "          Subject to: yᵢ(wᵀxᵢ + b) ≥ 1 for all i\n",
        "          This ensures that the margin is maximized, and data points are correctly classified.\n",
        "\n",
        "- Soft Margin in SVC:In real-world data, perfect separation is often not possible. So, Soft Margin SVC introduces slack variables (ξᵢ) to allow some misclassifications:\n",
        "          Minimize: (1/2) * ||w||² + C * Σ ξᵢ  \n",
        "          Subject to: yᵢ(wᵀxᵢ + b) ≥ 1 - ξᵢ and ξᵢ ≥ 0\n",
        "          C is a regularization parameter that balances margin width and classification errors.\n",
        "\n",
        "- Kernelized SVC (Non-Linear Classification):\n",
        "When data is not linearly separable, SVC uses kernel functions (like RBF, polynomial, etc.) to transform the data into higher dimensions where a linear hyperplane can separate the classes.\n",
        "\n",
        "\n",
        "- SVC in Practice (Sklearn):\n",
        "  - In Python, SVC is implemented in scikit-learn as:\n",
        "         from sklearn.svm import SVC\n",
        "\n",
        "         model = SVC(kernel='linear', C=1.0)\n",
        "         model.fit(X_train, y_train)\n",
        "         You can choose from various kernels such as 'linear', 'rbf', 'poly', etc.\n",
        "\n",
        "- SVC is a classifier based on the Support Vector Machine algorithm.\n",
        "- It finds the best hyperplane to separate classes with the widest margin.\n",
        "- Supports linear and non-linear classification using kernel tricks.\n",
        "- Uses support vectors (critical data points) to define the decision boundary.\n"
      ],
      "metadata": {
        "id": "Fs4HOpBSXczm"
      }
    },
    {
      "cell_type": "markdown",
      "source": [
        "7. What is a Support Vector Regressor (SVR)?\n",
        "- A Support Vector Regressor (SVR) is the regression counterpart of the Support Vector Machine (SVM). While SVM and SVC are used for classification tasks, SVR is used to predict continuous numerical values by fitting the best line (or curve) within a tolerance margin (called epsilon) around the actual data.\n",
        "\n",
        "- Main Idea:\n",
        "  - SVR tries to find a function f(x) that:\n",
        "    - Approximates the target values (y) as closely as possible\n",
        "    - Ignores small errors within a specified epsilon (ε) margin\n",
        "    - Minimizes model complexity, i.e., keeps the function as flat (simple) as possible\n",
        "\n",
        "- Mathematical Objective:\n",
        "  - SVR aims to:\n",
        "           Minimize: (1/2) * ||w||²  \n",
        "           Subject to:\n",
        "           |yᵢ - (wᵀxᵢ + b)| ≤ ε  → errors within ε are allowed  \n",
        "           Slack variables ξᵢ, ξᵢ* are introduced for points outside the ε-margin\n",
        "           Final objective function becomes:\n",
        "           Minimize: (1/2) * ||w||² + C * Σ (ξᵢ + ξᵢ*)\n",
        "           Where:\n",
        "           C is a regularization parameter controlling trade-off between flatness and tolerance to error\n",
        "           ξᵢ, ξᵢ* are slack variables for under/over predictions\n",
        "\n",
        "\n",
        "- Epsilon Tube (ε-tube):\n",
        "  - SVR creates a margin of tolerance (ε-tube) around the predicted function.\n",
        "  - Points within this ε-tube are not penalized.\n",
        "  - Points outside the tube contribute to the loss (via slack variables).\n",
        "\n",
        "\n",
        "- Kernel Support:\n",
        "  - Like SVC, SVR supports non-linear regression using kernel functions like:\n",
        "    - Linear\n",
        "    - Polynomial\n",
        "    - Radial Basis Function (RBF)\n",
        "    - These kernels help in fitting complex relationships in high-dimensional space.\n",
        "\n",
        "\n",
        "- SVR in Practice (Sklearn):\n",
        "         from sklearn.svm import SVR\n",
        "\n",
        "         model = SVR(kernel='rbf', C=100, epsilon=0.1)\n",
        "         model.fit(X_train, y_train)\n",
        "\n",
        "- SVR predicts continuous values using SVM principles.\n",
        "- It fits the best function that stays within a margin of error (ε) from actual values.\n",
        "- Only points outside the ε-tube influence the model (like support vectors).\n",
        "- It supports non-linear regression through kernel tricks.\n",
        "\n"
      ],
      "metadata": {
        "id": "n9vZrTMtXc-G"
      }
    },
    {
      "cell_type": "markdown",
      "source": [
        "8. What is the Kernel Trick in SVM?\n",
        "- The Kernel Trick is a powerful technique used in Support Vector Machines (SVM) to handle non-linearly separable data by implicitly mapping the input features into a higher-dimensional space — without actually computing the transformation. This allows SVMs to find a linear decision boundary in this transformed space, which corresponds to a non-linear boundary in the original space.\n",
        "\n",
        "- Why It's Needed >>\n",
        "  - In many real-world problems, data cannot be separated by a straight line (linear hyperplane). The kernel trick allows SVM to:\n",
        "    - Operate in the original input space\n",
        "    - Act as if it were performing complex computations in high dimensions\n",
        "               \n",
        "- Advantages of the Kernel Trick:\n",
        "  - No need to explicitly transform the data into high-dimensional space\n",
        "  - Saves computation and memory\n",
        "  - Enables SVM to perform non-linear classification or regression\n",
        "  - Can handle complex patterns and structures\n",
        "\n",
        "\n",
        "- Example in Python (RBF Kernel):\n",
        "        from sklearn.svm import SVC\n",
        "\n",
        "        model = SVC(kernel='rbf', gamma=0.1)\n",
        "        model.fit(X_train, y_train)\n",
        "        Here, the RBF kernel is used without manually computing any high-dimensional features.\n",
        "\n",
        "- The kernel trick allows SVM to learn non-linear patterns using linear algorithms.\n",
        "- It works by computing the dot product in a high-dimensional space using a kernel function.\n",
        "- It's efficient, scalable, and key to making SVMs powerful on complex data."
      ],
      "metadata": {
        "id": "dYipTyqyXdJP"
      }
    },
    {
      "cell_type": "markdown",
      "source": [
        "9. Compare Linear Kernel, Polynomial Kernel, and RBF Kernel in SVM .\n",
        "- The Linear, Polynomial, and RBF (Radial Basis Function) kernels are the most commonly used kernel functions in SVM. Each has its strengths depending on the nature of the data and the problem complexity. Here's a comparison based on several key aspects:\n",
        "\n",
        "- Formula:\n",
        "  - Linear Kernel:   K(x, x') = xᵀx'\n",
        "  - Polynomial Kernel: K(x, x') = (xᵀx' + c)ᵈ\n",
        "  - RBF Kernel (Gaussian): K(x, x') = exp(−γ‖x − x'‖²)\n",
        "\n",
        "- Linearity:\n",
        "  - Linear Kernel: Assumes data is linearly separable\n",
        "  - Polynomial Kernel: Can handle moderate non-linear data\n",
        "  - RBF Kernel: Handles complex non-linear data\n",
        "\n",
        "- Flexibility:\n",
        "  - Linear Kernel: Least flexible\n",
        "  - Polynomial Kernel: Moderately flexible (depends on degree)\n",
        "  - RBF Kernel: Highly flexible\n",
        "\n",
        "- Computational Cost:\n",
        "  - Linear Kernel: Low (fastest)\n",
        "  - Polynomial Kernel: Medium\n",
        "  - RBF Kernel: High (slowest)\n",
        "\n",
        "- Overfitting Risk:\n",
        "  - Linear Kernel: Low risk\n",
        "  - Polynomial Kernel: Medium to high (especially with high degrees)\n",
        "  - RBF Kernel: High if gamma is too large\n",
        "\n",
        "- Use Cases:\n",
        "  - Linear Kernel: High-dimensional, linearly separable data (e.g., text classification)\n",
        "  - Polynomial Kernel: Data with a known polynomial relationship\n",
        "  - RBF Kernel: Most general-purpose, non-linear data\n",
        "\n",
        "- Key Hyperparameters:\n",
        "  - Linear Kernel: C\n",
        "  - Polynomial Kernel: C, degree, coef0\n",
        "  - RBF Kernel: C, gamma\n",
        "\n",
        "- Visualization Boundary:\n",
        "  - Linear Kernel: Straight line/hyperplane\n",
        "  - Polynomial Kernel: Curved boundary (depends on degree)\n",
        "  - RBF Kernel: Highly curved and flexible boundary\n",
        "\n",
        "\n",
        "\n",
        "\n"
      ],
      "metadata": {
        "id": "-bRHzeU_XdTG"
      }
    },
    {
      "cell_type": "markdown",
      "source": [
        "10. What is the effect of the C parameter in SVM?\n",
        "- The C parameter in Support Vector Machines (SVM) is a regularization parameter that controls the trade-off between maximizing the margin and minimizing classification errors. It plays a critical role in how the model handles misclassified data points.\n",
        "\n",
        "- Meaning of C:\n",
        "  - C is a penalty parameter of the error term.\n",
        "  - It determines how much importance is given to misclassification.\n",
        "\n",
        "- Effect of C (High vs Low):\n",
        " - High C value (e.g., C = 1000):\n",
        "   - The model tries to classify all training data points correctly.\n",
        "   - Margin becomes smaller (narrower).\n",
        "   - Leads to less tolerance for misclassified points.\n",
        "   - Risk of overfitting increases.\n",
        "\n",
        " - Low C value (e.g., C = 0.01):\n",
        "   - The model allows some misclassifications in training.\n",
        "   - Margin becomes larger (wider).\n",
        "   - Better generalization on unseen data.\n",
        "   - Risk of underfitting increases.\n",
        "\n",
        "- Geometric Interpretation:\n",
        "  - High C leads to a hard margin — tries to avoid any margin violations.\n",
        "  - Low C leads to a soft margin — allows some slack and violations.\n",
        "\n",
        "- Tuning C in Practice:\n",
        "  - C is typically chosen via cross-validation.\n",
        "  - Ideal value depends on the noise level and complexity of the data.\n",
        "\n",
        "- C controls the balance between smooth decision boundary and correct classification of training points.\n",
        "- High C → less misclassification, more complex model\n",
        "- Low C → more tolerance to error, simpler model, better generalization\n",
        "\n"
      ],
      "metadata": {
        "id": "WLPEsR0FXdda"
      }
    },
    {
      "cell_type": "markdown",
      "source": [
        "11. What is the role of the Gamma parameter in RBF Kernel SVM?\n",
        "- In RBF (Radial Basis Function) Kernel SVM, the gamma (γ) parameter defines how far the influence of a single training point reaches. It controls the shape and complexity of the decision boundary by determining the curvature of the decision surface.\n",
        "\n",
        "- Role of Gamma >>\n",
        " - Gamma determines how much influence each training point has:\n",
        "   - High gamma → close influence (decision boundary very tight around data points)\n",
        "   - Low gamma → far-reaching influence (smoother, more generalized boundary)\n",
        "\n",
        "- Effect of Gamma (High vs Low) >>\n",
        " -  High Gamma (e.g., γ = 10):\n",
        "   - Decision boundary is very sensitive to individual points.\n",
        "   - Model creates tight, complex boundaries around the training data.\n",
        "   - May lead to overfitting (good on training, poor on test data).\n",
        "\n",
        "  - Low Gamma (e.g., γ = 0.001):\n",
        "   - Each data point’s influence is spread out more broadly.\n",
        "   - Leads to a smoother and simpler boundary.\n",
        "   - May lead to underfitting (too simple to capture the pattern).\n",
        "\n",
        "- Mathematical Insight >>\n",
        " - The RBF kernel formula is:\n",
        "                   K(x, x') = exp(−γ * ||x − x'||²)\n",
        "                   \n",
        "  - If gamma is large, ||x - x'||² gets magnified → kernel value drops quickly → only very close points matter.\n",
        "  - If γ is small, distant points also contribute.\n",
        "\n",
        "- Choosing Gamma >>\n",
        "  - Gamma is a hyperparameter and is often chosen through grid search or cross-validation.\n",
        "  - A good gamma depends on dataset size, distribution, and noise level.\n",
        "\n",
        "- Python Example >>\n",
        "             from sklearn.svm import SVC\n",
        "\n",
        "             # Low gamma: smooth decision boundary\n",
        "             model_low_gamma = SVC(kernel='rbf', gamma=0.01)\n",
        "\n",
        "             High gamma: tight boundary\n",
        "             model_high_gamma = SVC(kernel='rbf', gamma=10)\n",
        "\n",
        "\n",
        "\n",
        "             \n",
        "  "
      ],
      "metadata": {
        "id": "_sDNTh35Xdml"
      }
    },
    {
      "cell_type": "markdown",
      "source": [
        "12. What is the Naïve Bayes classifier, and why is it called \"Naïve\"?\n",
        "- The Naïve Bayes classifier is a probabilistic machine learning model based on Bayes' Theorem, used for classification tasks. It is especially popular for text classification, spam detection, and sentiment analysis due to its simplicity and efficiency.\n",
        "\n",
        "- Why It Is Called \"Naïve\" >>\n",
        " - It is called \"Naïve\" because it assumes that all features are independent of each other given the class label.\n",
        " - In reality, this assumption is rarely true, especially in natural language or image data, but the algorithm still performs surprisingly well in many practical scenarios.\n",
        "\n",
        "- Example of the assumption:\n",
        " - If you’re classifying an email as spam or not, and the features are the words \"free\" and \"money\", Naïve Bayes assumes:\n",
        "               P(free and money∣spam)=P(free∣spam)⋅P(money∣spam)\n",
        "      This independence assumption simplifies the computation significantly.\n",
        "\n",
        "\n",
        "- Naïve Bayes is a simple yet effective classifier based on Bayes’ Theorem.\n",
        "- it's called “Naïve” because it assumes feature independence, which simplifies calculations.\n",
        "- Despite its simplicity, it often gives strong results in real-world applications.\n"
      ],
      "metadata": {
        "id": "pPUhw0gSXdv9"
      }
    },
    {
      "cell_type": "markdown",
      "source": [
        "13. What is Bayes’ Theorem?\n",
        "- Bayes' Theorem is a fundamental principle in probability theory that describes how to update the probability of a hypothesis based on new evidence. It forms the core of Bayesian inference and is used extensively in Naïve Bayes classifiers, medical diagnosis, spam filtering, and many other fields.\n",
        "\n",
        "- Bayes’ Theorem Formula >>\n",
        "            P(A|B) = [P(B|A) * P(A)] / P(B)\n",
        "            Where:\n",
        "            P(A|B): Posterior probability (probability of event A occurring given B is true)\n",
        "            P(B|A): Likelihood (probability of event B occurring given A is true)\n",
        "            P(A): Prior probability of A (before seeing evidence)\n",
        "            P(B): Marginal probability of B (the evidence)\n",
        "\n",
        "- Interpretation >>\n",
        "  - Bayes’ Theorem allows you to recalculate the probability of a hypothesis (A) after observing some evidence (B).\n",
        "   - Prior (P(A)): What you believed before seeing the evidence.\n",
        "   - Likelihood (P(B|A)): How likely the evidence is, assuming the hypothesis is true.\n",
        "   - Posterior (P(A|B)): What you believe after seeing the evidence.\n",
        "\n",
        "- Simple Example >>\n",
        "  - Imagine a disease that affects 1 in 1000 people (P(Disease) = 0.001). A test detects it with:\n",
        "    - 99% true positive rate (P(Positive|Disease) = 0.99)\n",
        "    - 5% false positive rate (P(Positive|No Disease) = 0.05)\n",
        "\n",
        "  - What is the chance you actually have the disease if you test positive?\n",
        "   - Using Bayes’ Theorem:\n",
        "                    P(Disease|Positive) = [P(Positive|Disease) * P(Disease)] / P(Positive)\n",
        "  - This gives a surprisingly low probability, showing why Bayes' Theorem is crucial in decision-making under uncertainty.\n",
        "\n",
        "- Use in Naïve Bayes >>\n",
        "  - In classification, Bayes’ Theorem helps calculate:\n",
        "              P(Class | Features) = [P(Features | Class) * P(Class)] / P(Features)\n",
        "     Then, the class with the highest probability is chosen."
      ],
      "metadata": {
        "id": "BsSm_ueYXd8V"
      }
    },
    {
      "cell_type": "markdown",
      "source": [
        "14. Explain the differences between Gaussian Naïve Bayes, Multinomial Naïve Bayes, and Bernoulli Naïve Bayes.\n",
        "- These three are variants of the Naïve Bayes classifier, each suited to different types of data and distributions. Here's a breakdown in list format with clear distinctions:\n",
        "\n",
        "- Differences between Gaussian, Multinomial, and Bernoulli Naïve Bayes:\n",
        "\n",
        "- Data Type Supported >>\n",
        "  - Gaussian NB: Works with continuous (real-valued) features.\n",
        "  - Multinomial NB: Works with discrete count features (e.g., word counts).\n",
        "  - Bernoulli NB: Works with binary (0 or 1) features (e.g., presence/absence).\n",
        "\n",
        "- Distribution Assumed >>\n",
        "  - Gaussian NB: Assumes data follows a Normal (Gaussian) distribution.\n",
        "  - Multinomial NB: Assumes features follow a Multinomial distribution.\n",
        "  - Bernoulli NB: Assumes features follow a Bernoulli distribution.\n",
        "\n",
        "- Feature Representation >>\n",
        "  - Gaussian NB: Uses mean and variance of continuous variables.\n",
        "  - Multinomial NB: Uses term frequencies (e.g., number of times a word occurs).\n",
        "  - Bernoulli NB: Uses binary occurrence (1 if present, 0 if absent).\n",
        "\n",
        "- Typical Use Cases >>\n",
        "  - Gaussian NB: Predicting based on continuous features (e.g., height, weight).\n",
        "  - Multinomial NB: Text classification using word counts (e.g., spam detection).\n",
        "  - Bernoulli NB: Binary text classification using word presence (e.g., document classification with binary features).\n",
        "\n",
        "- Sensitivity >>\n",
        "  - Gaussian NB: Sensitive to outliers due to continuous nature.\n",
        "  - Multinomial NB: Sensitive to word frequency.\n",
        "  - Bernoulli NB: Sensitive to feature presence, not frequency.\n",
        "\n"
      ],
      "metadata": {
        "id": "QoUQhrJUXeIk"
      }
    },
    {
      "cell_type": "markdown",
      "source": [
        "15. When should you use Gaussian Naïve Bayes over other variants?\n",
        "- You should use Gaussian Naïve Bayes (GNB) when your features are continuous numeric values and you believe (or assume) that these features are normally distributed within each class.\n",
        "\n",
        "- Use Gaussian Naïve Bayes when:\n",
        "\n",
        "- Your dataset has continuous variables:\n",
        "  - Features like height, weight, temperature, age, income, etc.\n",
        "  - Other variants (Multinomial, Bernoulli) are not designed for continuous data.\n",
        "\n",
        "- Feature values are (approximately) normally distributed:\n",
        "  - GNB assumes each feature follows a Gaussian (bell-shaped) curve within each class.\n",
        "  - It works best when this assumption is true or close to true.\n",
        "\n",
        "- You want fast training with small datasets:\n",
        "  - GNB is computationally efficient and performs well even with limited training data.\n",
        "\n",
        "- You need fast computation and scalability:\n",
        "  - Very useful in real-time applications due to its low computational cost.\n",
        "  - Can scale easily to high-dimensional data with continuous values.\n",
        "\n",
        "- You're dealing with clean numeric data in the following domains:\n",
        "  - Medical Diagnosis - E.g., Classifying patients based on blood pressure, sugar level, cholesterol, etc.\n",
        "  - Financial Modeling - E.g., Predicting credit risk, loan approval based on continuous customer features.\n",
        "  - Sensor Data Classification - E.g., Predicting device failures using sensor readings like vibration, temperature.\n",
        "  -  Student Performance Analysis - E.g., Predicting pass/fail based on continuous scores and attendance data.\n",
        "  - Environmental Modeling - E.g., Predicting air quality index or pollution category based on continuous features.\n",
        "  - Scientific Research & Lab Analysis - E.g., Classifying samples or conditions based on continuous experimental data.\n",
        "\n",
        "- When interpretability and simplicity are needed:\n",
        "  - The model is mathematically interpretable and doesn’t require complex tuning.\n",
        "  - Ideal for educational use or when explaining model decisions is important."
      ],
      "metadata": {
        "id": "8zE_rfF9XeUS"
      }
    },
    {
      "cell_type": "markdown",
      "source": [
        "16. What are the key assumptions made by Naïve Bayes?\n",
        "- Naïve Bayes is a probabilistic classification algorithm based on Bayes' Theorem. Its performance and simplicity rely on a few key assumptions:\n",
        "\n",
        "- Key Assumptions of Naïve Bayes >>\n",
        "\n",
        "- Feature Independence (Strong Naïve Assumption):\n",
        "  - It assumes that all features are conditionally independent of each other given the class label.\n",
        "  - Mathematically:\n",
        "              P(x₁, x₂, ..., xₙ | y) = P(x₁ | y) * P(x₂ | y) * ... * P(xₙ | y)\n",
        "  - This is rarely true in practice, but the model often works well despite this simplification.\n",
        "\n",
        "- Each Feature Contributes Equally and Independently:\n",
        "  - Every feature contributes independently and equally to the probability of the outcome.\n",
        "  - No feature is considered more important unless explicitly weighted (e.g., with feature engineering).\n",
        "\n",
        "- Correct Model Type Assumed for Data:\n",
        "  - Depending on the variant used:\n",
        "    - Gaussian NB assumes features are normally distributed\n",
        "    - Multinomial NB assumes features are frequency counts\n",
        "    - Bernoulli NB assumes features are binary (0 or 1)\n",
        "  - The model performance depends on whether your data matches these distributions.\n",
        "\n",
        "- All Features are Relevant to Classification:\n",
        "  - Naïve Bayes assumes that each input feature is useful for predicting the class label.\n",
        "  - Irrelevant or noisy features can reduce model accuracy."
      ],
      "metadata": {
        "id": "xyeDUxKxXefB"
      }
    },
    {
      "cell_type": "markdown",
      "source": [
        "17. What are the advantages and disadvantages of Naïve Bayes?\n",
        "- Naïve Bayes is a popular classification algorithm known for its simplicity and speed, but it also has certain limitations. Here's a clear list of advantages and disadvantages:\n",
        "\n",
        "- Advantages of Naïve Bayes >>\n",
        " - Simple and Fast - Very easy to implement and computationally efficient, both during training and prediction.\n",
        " - Works Well with Small Datasets- Performs well even with limited training data, making it suitable for early-stage projects.\n",
        " - Scales Easily to Large Datasets - Can handle large numbers of features and high-dimensional data, especially in text classification.\n",
        " - Performs Well with Text Data - Especially effective for spam detection, sentiment analysis, and document classification using Multinomial or Bernoulli Naïve Bayes.\n",
        " - Handles Irrelevant Features Well - Despite the strong independence assumption, it can perform reasonably well even when irrelevant features are present.\n",
        " - Probabilistic Output - Gives class probabilities, which can be helpful in decision-making or ranking tasks.\n",
        "\n",
        "- Disadvantages of Naïve Bayes >>\n",
        " - Strong (Naïve) Independence Assumption - Assumes all features are conditionally independent given the class label — which is rarely true in real-world data.\n",
        " - Limited Expressiveness - Can’t model interactions between features, which limits performance on complex tasks.\n",
        " - Zero Probability Problem - If a feature value was not seen in the training data, the model assigns zero probability.\n",
        "  - This can be handled using Laplace Smoothing.\n",
        "\n",
        " - Assumption of Correct Distribution -\n",
        "   - Each variant assumes a specific distribution:\n",
        "    - Gaussian for real-valued features\n",
        "    - Multinomial for count data\n",
        "   - Bernoulli for binary data\n",
        "  - Misusing these assumptions can decrease accuracy.\n",
        "\n",
        " - Not Ideal for Highly Correlated Features - Correlation between features violates the independence assumption and can hurt performance."
      ],
      "metadata": {
        "id": "_JWvtgYyXepm"
      }
    },
    {
      "cell_type": "markdown",
      "source": [
        "18. Why is Naïve Bayes a good choice for text classification?\n",
        "- Naïve Bayes is widely used in text classification tasks because of its simplicity, efficiency, and surprisingly strong performance on high-dimensional textual data.\n",
        "\n",
        "- Reasons Why Naïve Bayes Is a Good Choice for Text Classification >>\n",
        "\n",
        "- Works Well with High-Dimensional Data:\n",
        "  - Text data typically has thousands of features (words/tokens).\n",
        "  - Naïve Bayes handles this efficiently without becoming slow or overfitting.\n",
        "\n",
        "- Assumption of Feature Independence Fits Well:\n",
        "  - In text, words are often treated as independent features, which aligns well with Naïve Bayes' independence assumption.\n",
        "\n",
        "- Fast Training and Prediction:\n",
        "  - Training is extremely fast, even on large corpora.\n",
        "  - Useful for real-time or large-scale applications like spam filters or news categorization.\n",
        "\n",
        "- Works Well with Sparse Data:\n",
        "  - Text data is sparse (most documents contain only a few words from the vocabulary).\n",
        "  - Naïve Bayes performs well on sparse matrices from Bag of Words or TF-IDF features.\n",
        "\n",
        "- Effective with Small Amounts of Labeled Data:\n",
        "  - Can learn meaningful patterns even from a relatively small labeled dataset, unlike deep learning models which need lots of data.\n",
        "\n",
        "- Probabilistic Classification:\n",
        "  - Provides probabilities for each class, which is useful when ranking documents or dealing with multi-label problems.\n",
        "\n",
        "- Variants Are Tailored for Text:\n",
        "  - Multinomial Naïve Bayes models word frequencies (most suitable for document classification).\n",
        "  - Bernoulli Naïve Bayes can be used when modeling binary presence/absence of words.\n",
        "\n",
        "- Naïve Bayes is a strong baseline for text classification because it's fast, scalable, easy to implement, and performs surprisingly well on high-dimensional and sparse text data, especially when using Multinomial Naïve Bayes."
      ],
      "metadata": {
        "id": "eRncQTSEXezO"
      }
    },
    {
      "cell_type": "markdown",
      "source": [
        "19. Compare SVM and Naïve Bayes for classification tasks.\n",
        "- Here is a clear comparison of Support Vector Machine (SVM) and Naïve Bayes\n",
        "\n",
        "- Model Type >>\n",
        "  - SVM: Discriminative – focuses on finding the optimal boundary between classes.\n",
        "  - Naïve Bayes: Generative – models how the data is generated for each class.\n",
        "\n",
        "- Assumptions >>\n",
        "  - SVM: Makes no assumption about data distribution.\n",
        "  - Naïve Bayes: Assumes strong feature independence and specific feature distribution (Gaussian, Multinomial, etc.).\n",
        "\n",
        "- Accuracy >>\n",
        "  - SVM: Often achieves higher accuracy on complex datasets.\n",
        "  - Naïve Bayes: Good accuracy on simple or well-separated datasets.\n",
        "\n",
        "- Speed & Training Time >>\n",
        "  - SVM: Slower training due to optimization (especially on large datasets).\n",
        "  - Naïve Bayes: Very fast training and prediction.\n",
        "\n",
        "- Data Type Compatibility >>\n",
        "  - SVM: Works with both continuous and sparse data.\n",
        "  - Naïve Bayes: Best with discrete (e.g., text counts) or binary data.\n",
        "\n",
        "- Text Classification >>\n",
        "  - SVM: Performs well, especially with a linear kernel.\n",
        "  - Naïve Bayes: Excellent, especially Multinomial NB for text and NLP tasks.\n",
        "\n",
        "- Interpretability >>\n",
        "  - SVM: Less interpretable due to complex decision boundaries.\n",
        "  - Naïve Bayes: Highly interpretable with clear probabilistic outputs.\n",
        "\n",
        "- Noise & Outlier Handling >>\n",
        "  - SVM: Sensitive to outliers; can misclassify if margin is distorted.\n",
        "  - Naïve Bayes: More robust to irrelevant and noisy features.\n",
        "\n",
        "- Dataset Size Requirement >>\n",
        "  - SVM: Performs better with more training data.\n",
        "  - Naïve Bayes: Performs well with small amounts of data.\n",
        "\n",
        "- Multiclass Classification >>\n",
        "  - SVM: Needs One-vs-One or One-vs-Rest strategies.\n",
        "  - Naïve Bayes: Natively supports multiclass classification."
      ],
      "metadata": {
        "id": "cJvSbh1KXg88"
      }
    },
    {
      "cell_type": "markdown",
      "source": [
        "20. How does Laplace Smoothing help in Naïve Bayes?\n",
        "- Laplace Smoothing (also called add-one smoothing) is used in Naïve Bayes to handle the zero probability problem. This problem arises when a categorical feature value doesn’t appear in the training data for a given class, which would result in a zero probability and make the entire prediction probability zero.\n",
        "\n",
        "- The Problem Without Smoothing:\n",
        "  - In Naïve Bayes, the class probability is calculated by multiplying conditional probabilities of features.\n",
        "If any feature has zero probability for a class, the entire probability becomes zero:\n",
        "               P(y|x1, x2, ..., xn) ∝ P(y) * P(x1|y) * P(x2|y) * ... * P(xn|y)\n",
        "   So, if P(xi|y) = 0, the entire expression becomes 0, which can be very misleading.\n",
        "\n",
        "- How Laplace Smoothing Helps:\n",
        "  - Laplace Smoothing solves this by adding 1 to each count in the probability formula. This ensures that no probability is exactly zero, even for unseen values.\n",
        "              P(xi | y) = (count(xi in class y) + 1) / (total count in class y + k)\n",
        "              Where:\n",
        "              count(xi in class y) = number of times feature xi appears in class y\n",
        "              k = number of unique values (e.g., size of vocabulary in text classification)\n",
        "\n",
        "- Example:\n",
        "  - Suppose the word \"excellent\" never appears in negative reviews.\n",
        "    - Without smoothing:\n",
        "               P(\"excellent\" | Negative) = 0 ⇒ P(Negative | review) = 0\n",
        "    - With Laplace smoothing:\n",
        "               P(\"excellent\" | Negative) = (0 + 1) / (total words in Negative + vocabulary size)\n",
        "\n",
        "- Laplace Smoothing adjusts probability estimates in Naïve Bayes by adding 1 to all feature counts. It prevents zero probabilities and helps the classifier better generalize to new or unseen data, especially in tasks like text classification.\n",
        "               "
      ],
      "metadata": {
        "id": "YbjQQEZhXhGN"
      }
    },
    {
      "cell_type": "markdown",
      "source": [
        "#Practicle Questions"
      ],
      "metadata": {
        "id": "KzJqx_psXhO1"
      }
    },
    {
      "cell_type": "code",
      "source": [
        "#21. Write a Python program to train an SVM classifier on the Iris dataset and evaluate accuracy.\n",
        "# Import necessary libraries\n",
        "from sklearn import datasets\n",
        "from sklearn.model_selection import train_test_split\n",
        "from sklearn import svm\n",
        "from sklearn.metrics import accuracy_score\n",
        "\n",
        "# Load the Iris dataset\n",
        "iris = datasets.load_iris()\n",
        "X = iris.data\n",
        "y = iris.target\n",
        "\n",
        "# Split the dataset into training and testing sets\n",
        "X_train, X_test, y_train, y_test = train_test_split(X, y, test_size=0.2, random_state=42)\n",
        "\n",
        "# Create an SVM classifier\n",
        "svm_classifier = svm.SVC()\n",
        "\n",
        "# Train the classifier\n",
        "svm_classifier.fit(X_train, y_train)\n",
        "\n",
        "# Make predictions on the test set\n",
        "y_pred = svm_classifier.predict(X_test)\n",
        "\n",
        "# Evaluate the accuracy of the classifier\n",
        "accuracy = accuracy_score(y_test, y_pred)\n",
        "print(\"Accuracy:\", accuracy)"
      ],
      "metadata": {
        "colab": {
          "base_uri": "https://localhost:8080/"
        },
        "id": "26C94_i7quns",
        "outputId": "cfd0d1b3-8e67-43e8-a2ea-7aa750992292"
      },
      "execution_count": 1,
      "outputs": [
        {
          "output_type": "stream",
          "name": "stdout",
          "text": [
            "Accuracy: 1.0\n"
          ]
        }
      ]
    },
    {
      "cell_type": "code",
      "source": [
        "#22. Write a Python program to train two SVM classifiers with linear and RBF kernels on the Wine dataset and compare their accuracies.\n",
        "# Import necessary libraries\n",
        "from sklearn import datasets\n",
        "from sklearn.model_selection import train_test_split\n",
        "from sklearn import svm\n",
        "from sklearn.metrics import accuracy_score\n",
        "\n",
        "# Load the Wine dataset\n",
        "wine = datasets.load_wine()\n",
        "X = wine.data\n",
        "y = wine.target\n",
        "\n",
        "# Split the dataset into training and testing sets\n",
        "X_train, X_test, y_train, y_test = train_test_split(X, y, test_size=0.2, random_state=42)\n",
        "\n",
        "# Create two SVM classifiers with linear and RBF kernels\n",
        "svm_linear = svm.SVC(kernel='linear')\n",
        "svm_rbf = svm.SVC(kernel='rbf')\n",
        "\n",
        "# Train the classifiers\n",
        "svm_linear.fit(X_train, y_train)\n",
        "svm_rbf.fit(X_train, y_train)\n",
        "\n",
        "# Make predictions on the test set\n",
        "y_pred_linear = svm_linear.predict(X_test)\n",
        "y_pred_rbf = svm_rbf.predict(X_test)\n",
        "\n",
        "# Evaluate the accuracy of the classifiers\n",
        "accuracy_linear = accuracy_score(y_test, y_pred_linear)\n",
        "accuracy_rbf = accuracy_score(y_test, y_pred_rbf)\n",
        "\n",
        "# Compare the accuracies\n",
        "print(\"Accuracy (Linear Kernel):\", accuracy_linear)\n",
        "print(\"Accuracy (RBF Kernel):\", accuracy_rbf)\n",
        "\n",
        "if accuracy_linear > accuracy_rbf:\n",
        "    print(\"Linear kernel performs better.\")\n",
        "elif accuracy_rbf > accuracy_linear:\n",
        "    print(\"RBF kernel performs better.\")\n",
        "else:\n",
        "    print(\"Both kernels perform equally well.\")"
      ],
      "metadata": {
        "colab": {
          "base_uri": "https://localhost:8080/"
        },
        "id": "a_6nNJJPqvi6",
        "outputId": "c6e4d340-2121-46d5-e015-807219df2460"
      },
      "execution_count": 2,
      "outputs": [
        {
          "output_type": "stream",
          "name": "stdout",
          "text": [
            "Accuracy (Linear Kernel): 1.0\n",
            "Accuracy (RBF Kernel): 0.8055555555555556\n",
            "Linear kernel performs better.\n"
          ]
        }
      ]
    },
    {
      "cell_type": "code",
      "source": [
        "#23. Write a Python program to train an SVM regressor (SVR) on a housing dataset and evaluate it using Mean Squared Error (MSE).\n",
        "# Import necessary libraries\n",
        "from sklearn.datasets import fetch_california_housing\n",
        "from sklearn.model_selection import train_test_split\n",
        "from sklearn import svm\n",
        "from sklearn.metrics import mean_squared_error\n",
        "from sklearn.preprocessing import StandardScaler\n",
        "\n",
        "# Load the California Housing dataset\n",
        "cal_housing = fetch_california_housing()\n",
        "X = cal_housing.data\n",
        "y = cal_housing.target\n",
        "\n",
        "# Split the dataset into training and testing sets\n",
        "X_train, X_test, y_train, y_test = train_test_split(X, y, test_size=0.2, random_state=42)\n",
        "\n",
        "# Standardize features\n",
        "scaler = StandardScaler()\n",
        "X_train = scaler.fit_transform(X_train)\n",
        "X_test = scaler.transform(X_test)\n",
        "\n",
        "# Create an SVM regressor\n",
        "svm_regressor = svm.SVR(kernel='rbf')\n",
        "\n",
        "# Train the regressor\n",
        "svm_regressor.fit(X_train, y_train)\n",
        "\n",
        "# Make predictions on the test set\n",
        "y_pred = svm_regressor.predict(X_test)\n",
        "\n",
        "# Evaluate the regressor using Mean Squared Error (MSE)\n",
        "mse = mean_squared_error(y_test, y_pred)\n",
        "print(\"Mean Squared Error (MSE):\", mse)"
      ],
      "metadata": {
        "colab": {
          "base_uri": "https://localhost:8080/"
        },
        "id": "2u3kENj8qvsU",
        "outputId": "d4ecbfbf-722c-412a-f801-30e04762dc45"
      },
      "execution_count": 4,
      "outputs": [
        {
          "output_type": "stream",
          "name": "stdout",
          "text": [
            "Mean Squared Error (MSE): 0.3570026426754463\n"
          ]
        }
      ]
    },
    {
      "cell_type": "code",
      "source": [
        "#24. Write a Python program to train an SVM classifier with a polynomial kernel and visualize the decision boundary.\n",
        "# Import necessary libraries\n",
        "import numpy as np\n",
        "import matplotlib.pyplot as plt\n",
        "from sklearn import svm\n",
        "\n",
        "# Generate a sample dataset\n",
        "np.random.seed(0)\n",
        "mean1 = [0, 0]\n",
        "cov1 = [[1, 0.5], [0.5, 1]]\n",
        "data1 = np.random.multivariate_normal(mean1, cov1, 50)\n",
        "\n",
        "mean2 = [2, 2]\n",
        "cov2 = [[1, 0.5], [0.5, 1]]\n",
        "data2 = np.random.multivariate_normal(mean2, cov2, 50)\n",
        "\n",
        "X = np.vstack((data1, data2))\n",
        "y = np.hstack((np.zeros(50), np.ones(50)))\n",
        "\n",
        "# Train an SVM classifier with a polynomial kernel\n",
        "svm_classifier = svm.SVC(kernel='poly', degree=3)\n",
        "svm_classifier.fit(X, y)\n",
        "\n",
        "# Create a meshgrid to visualize the decision boundary\n",
        "h = .02\n",
        "x_min, x_max = X[:, 0].min() - 1, X[:, 0].max() + 1\n",
        "y_min, y_max = X[:, 1].min() - 1, X[:, 1].max() + 1\n",
        "xx, yy = np.meshgrid(np.arange(x_min, x_max, h), np.arange(y_min, y_max, h))\n",
        "\n",
        "# Make predictions on the meshgrid\n",
        "Z = svm_classifier.predict(np.c_[xx.ravel(), yy.ravel()])\n",
        "Z = Z.reshape(xx.shape)\n",
        "\n",
        "# Plot the decision boundary\n",
        "plt.contourf(xx, yy, Z, alpha=0.8)\n",
        "plt.scatter(X[:, 0], X[:, 1], c=y)\n",
        "plt.xlabel('Feature 1')\n",
        "plt.ylabel('Feature 2')\n",
        "plt.title('SVM Classifier with Polynomial Kernel')\n",
        "plt.show()"
      ],
      "metadata": {
        "colab": {
          "base_uri": "https://localhost:8080/",
          "height": 472
        },
        "id": "yXKijzpxqv2i",
        "outputId": "617d05b4-eb34-41fd-c21e-fbc238059fe1"
      },
      "execution_count": 5,
      "outputs": [
        {
          "output_type": "display_data",
          "data": {
            "text/plain": [
              "<Figure size 640x480 with 1 Axes>"
            ],
            "image/png": "[encoded data removed]"
          },
          "metadata": {}
        }
      ]
    },
    {
      "cell_type": "code",
      "source": [
        "#25. Write a Python program to train a Gaussian Naïve Bayes classifier on the Breast Cancer dataset and evaluate accuracy.\n",
        "# Import necessary libraries\n",
        "from sklearn.datasets import load_breast_cancer\n",
        "from sklearn.model_selection import train_test_split\n",
        "from sklearn.naive_bayes import GaussianNB\n",
        "from sklearn.metrics import accuracy_score\n",
        "\n",
        "# Load the Breast Cancer dataset\n",
        "breast_cancer = load_breast_cancer()\n",
        "X = breast_cancer.data\n",
        "y = breast_cancer.target\n",
        "\n",
        "# Split the dataset into training and testing sets\n",
        "X_train, X_test, y_train, y_test = train_test_split(X, y, test_size=0.2, random_state=42)\n",
        "\n",
        "# Train a Gaussian Naïve Bayes classifier\n",
        "gnb = GaussianNB()\n",
        "gnb.fit(X_train, y_train)\n",
        "\n",
        "# Make predictions on the test set\n",
        "y_pred = gnb.predict(X_test)\n",
        "\n",
        "# Evaluate the accuracy of the classifier\n",
        "accuracy = accuracy_score(y_test, y_pred)\n",
        "print(\"Accuracy:\", accuracy)"
      ],
      "metadata": {
        "colab": {
          "base_uri": "https://localhost:8080/"
        },
        "id": "bcrcJFOmqv_r",
        "outputId": "5d659beb-c183-438b-9d2c-180990c2978f"
      },
      "execution_count": 6,
      "outputs": [
        {
          "output_type": "stream",
          "name": "stdout",
          "text": [
            "Accuracy: 0.9736842105263158\n"
          ]
        }
      ]
    },
    {
      "cell_type": "code",
      "source": [
        "#26. Write a Python program to train a Multinomial Naïve Bayes classifier for text classification using the 20 Newsgroups dataset.\n",
        "# Import necessary libraries\n",
        "from sklearn.datasets import fetch_20newsgroups\n",
        "from sklearn.model_selection import train_test_split\n",
        "from sklearn.feature_extraction.text import CountVectorizer\n",
        "from sklearn.naive_bayes import MultinomialNB\n",
        "from sklearn.metrics import accuracy_score, classification_report\n",
        "\n",
        "# Load the 20 Newsgroups dataset\n",
        "newsgroups = fetch_20newsgroups(remove=('headers', 'footers', 'quotes'))\n",
        "\n",
        "# Split the dataset into training and testing sets\n",
        "X_train, X_test, y_train, y_test = train_test_split(newsgroups.data, newsgroups.target, test_size=0.2, random_state=42)\n",
        "\n",
        "# Create a CountVectorizer to convert text data into numerical features\n",
        "vectorizer = CountVectorizer(stop_words='english')\n",
        "X_train_count = vectorizer.fit_transform(X_train)\n",
        "X_test_count = vectorizer.transform(X_test)\n",
        "\n",
        "# Train a Multinomial Naïve Bayes classifier\n",
        "mnb = MultinomialNB()\n",
        "mnb.fit(X_train_count, y_train)\n",
        "\n",
        "# Make predictions on the test set\n",
        "y_pred = mnb.predict(X_test_count)\n",
        "\n",
        "# Evaluate the accuracy of the classifier\n",
        "accuracy = accuracy_score(y_test, y_pred)\n",
        "print(\"Accuracy:\", accuracy)\n",
        "print(\"Classification Report:\")\n",
        "print(classification_report(y_test, y_pred, target_names=newsgroups.target_names))"
      ],
      "metadata": {
        "colab": {
          "base_uri": "https://localhost:8080/"
        },
        "id": "QsC7DWObqwIv",
        "outputId": "d1380191-b9da-48ab-d2f1-49e2cceafcfc"
      },
      "execution_count": 7,
      "outputs": [
        {
          "output_type": "stream",
          "name": "stdout",
          "text": [
            "Accuracy: 0.6685815289438798\n",
            "Classification Report:\n",
            "                          precision    recall  f1-score   support\n",
            "\n",
            "             alt.atheism       0.77      0.42      0.55        97\n",
            "           comp.graphics       0.54      0.68      0.60       104\n",
            " comp.os.ms-windows.misc       0.80      0.03      0.07       115\n",
            "comp.sys.ibm.pc.hardware       0.54      0.78      0.64       123\n",
            "   comp.sys.mac.hardware       0.97      0.52      0.67       126\n",
            "          comp.windows.x       0.58      0.91      0.71       106\n",
            "            misc.forsale       0.82      0.65      0.72       109\n",
            "               rec.autos       0.87      0.71      0.78       139\n",
            "         rec.motorcycles       0.89      0.64      0.74       122\n",
            "      rec.sport.baseball       0.60      0.82      0.69       102\n",
            "        rec.sport.hockey       0.83      0.82      0.83       108\n",
            "               sci.crypt       0.59      0.88      0.71       125\n",
            "         sci.electronics       0.79      0.63      0.70       114\n",
            "                 sci.med       0.78      0.79      0.79       119\n",
            "               sci.space       0.82      0.80      0.81       127\n",
            "  soc.religion.christian       0.49      0.88      0.63       122\n",
            "      talk.politics.guns       0.79      0.69      0.74       121\n",
            "   talk.politics.mideast       0.46      0.81      0.59       102\n",
            "      talk.politics.misc       0.67      0.58      0.62       107\n",
            "      talk.religion.misc       0.58      0.09      0.16        75\n",
            "\n",
            "                accuracy                           0.67      2263\n",
            "               macro avg       0.71      0.66      0.64      2263\n",
            "            weighted avg       0.72      0.67      0.65      2263\n",
            "\n"
          ]
        }
      ]
    },
    {
      "cell_type": "code",
      "source": [
        "#27. Write a Python program to train an SVM Classifier with different C values and compare the decision boundaries visually.\n",
        "# Import necessary libraries\n",
        "import numpy as np\n",
        "import matplotlib.pyplot as plt\n",
        "from sklearn import svm\n",
        "\n",
        "# Generate a sample dataset\n",
        "np.random.seed(0)\n",
        "mean1 = [0, 0]\n",
        "cov1 = [[1, 0.5], [0.5, 1]]\n",
        "data1 = np.random.multivariate_normal(mean1, cov1, 50)\n",
        "\n",
        "mean2 = [2, 2]\n",
        "cov2 = [[1, 0.5], [0.5, 1]]\n",
        "data2 = np.random.multivariate_normal(mean2, cov2, 50)\n",
        "\n",
        "X = np.vstack((data1, data2))\n",
        "y = np.hstack((np.zeros(50), np.ones(50)))\n",
        "\n",
        "# Train SVM classifiers with different C values\n",
        "C_values = [0.1, 1, 10]\n",
        "fig, axs = plt.subplots(1, len(C_values), figsize=(15, 5))\n",
        "\n",
        "for i, C in enumerate(C_values):\n",
        "    svm_classifier = svm.SVC(kernel='linear', C=C)\n",
        "    svm_classifier.fit(X, y)\n",
        "\n",
        "    # Create a meshgrid to visualize the decision boundary\n",
        "    h = .02\n",
        "    x_min, x_max = X[:, 0].min() - 1, X[:, 0].max() + 1\n",
        "    y_min, y_max = X[:, 1].min() - 1, X[:, 1].max() + 1\n",
        "    xx, yy = np.meshgrid(np.arange(x_min, x_max, h), np.arange(y_min, y_max, h))\n",
        "\n",
        "    # Make predictions on the meshgrid\n",
        "    Z = svm_classifier.predict(np.c_[xx.ravel(), yy.ravel()])\n",
        "    Z = Z.reshape(xx.shape)\n",
        "\n",
        "    # Plot the decision boundary\n",
        "    axs[i].contourf(xx, yy, Z, alpha=0.8)\n",
        "    axs[i].scatter(X[:, 0], X[:, 1], c=y)\n",
        "    axs[i].set_title(f'C = {C}')\n",
        "\n",
        "plt.show()"
      ],
      "metadata": {
        "colab": {
          "base_uri": "https://localhost:8080/",
          "height": 458
        },
        "id": "QBNjnobsqwRb",
        "outputId": "fe45039c-e828-41de-b4ef-63435ed017df"
      },
      "execution_count": 8,
      "outputs": [
        {
          "output_type": "display_data",
          "data": {
            "text/plain": [
              "<Figure size 1500x500 with 3 Axes>"
            ],
            "image/png": "[encoded data removed]"
          },
          "metadata": {}
        }
      ]
    },
    {
      "cell_type": "code",
      "source": [
        "#28. Write a Python program to train a Bernoulli Naïve Bayes classifier for binary classification on a dataset with binary features.\n",
        "# Import necessary libraries\n",
        "from sklearn.datasets import make_classification\n",
        "from sklearn.model_selection import train_test_split\n",
        "from sklearn.naive_bayes import BernoulliNB\n",
        "from sklearn.metrics import accuracy_score, classification_report\n",
        "\n",
        "# Generate a sample dataset with binary features\n",
        "X, y = make_classification(n_samples=100, n_features=10, n_informative=5, n_redundant=0, n_repeated=0, n_classes=2, random_state=42)\n",
        "X = (X > 0).astype(int)  # Convert features to binary\n",
        "\n",
        "# Split the dataset into training and testing sets\n",
        "X_train, X_test, y_train, y_test = train_test_split(X, y, test_size=0.2, random_state=42)\n",
        "\n",
        "# Train a Bernoulli Naïve Bayes classifier\n",
        "bnb = BernoulliNB()\n",
        "bnb.fit(X_train, y_train)\n",
        "\n",
        "# Make predictions on the test set\n",
        "y_pred = bnb.predict(X_test)\n",
        "\n",
        "# Evaluate the accuracy of the classifier\n",
        "accuracy = accuracy_score(y_test, y_pred)\n",
        "print(\"Accuracy:\", accuracy)\n",
        "print(\"Classification Report:\")\n",
        "print(classification_report(y_test, y_pred))"
      ],
      "metadata": {
        "colab": {
          "base_uri": "https://localhost:8080/"
        },
        "id": "VJcGIaLuqwaW",
        "outputId": "bb01025c-9e89-4fd3-d857-ab2853157019"
      },
      "execution_count": 9,
      "outputs": [
        {
          "output_type": "stream",
          "name": "stdout",
          "text": [
            "Accuracy: 0.85\n",
            "Classification Report:\n",
            "              precision    recall  f1-score   support\n",
            "\n",
            "           0       0.89      0.80      0.84        10\n",
            "           1       0.82      0.90      0.86        10\n",
            "\n",
            "    accuracy                           0.85        20\n",
            "   macro avg       0.85      0.85      0.85        20\n",
            "weighted avg       0.85      0.85      0.85        20\n",
            "\n"
          ]
        }
      ]
    },
    {
      "cell_type": "code",
      "source": [
        "#29. Write a Python program to apply feature scaling before training an SVM model and compare results with unscaled data.\n",
        "# Import necessary libraries\n",
        "from sklearn.datasets import load_iris\n",
        "from sklearn.model_selection import train_test_split\n",
        "from sklearn import svm\n",
        "from sklearn.preprocessing import StandardScaler\n",
        "from sklearn.metrics import accuracy_score\n",
        "\n",
        "# Load the Iris dataset\n",
        "iris = load_iris()\n",
        "X = iris.data\n",
        "y = iris.target\n",
        "\n",
        "# Split the dataset into training and testing sets\n",
        "X_train, X_test, y_train, y_test = train_test_split(X, y, test_size=0.2, random_state=42)\n",
        "\n",
        "# Train an SVM model on unscaled data\n",
        "svm_unscaled = svm.SVC(kernel='linear', C=1)\n",
        "svm_unscaled.fit(X_train, y_train)\n",
        "y_pred_unscaled = svm_unscaled.predict(X_test)\n",
        "accuracy_unscaled = accuracy_score(y_test, y_pred_unscaled)\n",
        "print(\"Accuracy (Unscaled Data):\", accuracy_unscaled)\n",
        "\n",
        "# Apply feature scaling\n",
        "scaler = StandardScaler()\n",
        "X_train_scaled = scaler.fit_transform(X_train)\n",
        "X_test_scaled = scaler.transform(X_test)\n",
        "\n",
        "# Train an SVM model on scaled data\n",
        "svm_scaled = svm.SVC(kernel='linear', C=1)\n",
        "svm_scaled.fit(X_train_scaled, y_train)\n",
        "y_pred_scaled = svm_scaled.predict(X_test_scaled)\n",
        "accuracy_scaled = accuracy_score(y_test, y_pred_scaled)\n",
        "print(\"Accuracy (Scaled Data):\", accuracy_scaled)\n",
        "\n",
        "# Compare results\n",
        "print(\"Difference in Accuracy:\", accuracy_scaled - accuracy_unscaled)"
      ],
      "metadata": {
        "colab": {
          "base_uri": "https://localhost:8080/"
        },
        "id": "8JlIyQImqwjl",
        "outputId": "e1978cf8-438f-4d2a-846b-a36799a49845"
      },
      "execution_count": 10,
      "outputs": [
        {
          "output_type": "stream",
          "name": "stdout",
          "text": [
            "Accuracy (Unscaled Data): 1.0\n",
            "Accuracy (Scaled Data): 0.9666666666666667\n",
            "Difference in Accuracy: -0.033333333333333326\n"
          ]
        }
      ]
    },
    {
      "cell_type": "code",
      "source": [
        "#30. Write a Python program to train a Gaussian Naïve Bayes model and compare the predictions before and after Laplace Smoothing.\n",
        "# Import necessary libraries\n",
        "from sklearn.datasets import load_digits\n",
        "from sklearn.model_selection import train_test_split\n",
        "from sklearn.naive_bayes import MultinomialNB\n",
        "from sklearn.metrics import accuracy_score\n",
        "\n",
        "# Load the Digits dataset\n",
        "digits = load_digits()\n",
        "X = digits.data\n",
        "y = digits.target\n",
        "\n",
        "# Split the dataset into training and testing sets\n",
        "X_train, X_test, y_train, y_test = train_test_split(X, y, test_size=0.2, random_state=42)\n",
        "\n",
        "# Train a Multinomial Naïve Bayes model without Laplace smoothing\n",
        "mnb_without_smoothing = MultinomialNB(alpha=0)\n",
        "mnb_without_smoothing.fit(X_train, y_train)\n",
        "y_pred_without_smoothing = mnb_without_smoothing.predict(X_test)\n",
        "accuracy_without_smoothing = accuracy_score(y_test, y_pred_without_smoothing)\n",
        "print(\"Accuracy (Without Smoothing):\", accuracy_without_smoothing)\n",
        "\n",
        "# Train a Multinomial Naïve Bayes model with Laplace smoothing\n",
        "mnb_with_smoothing = MultinomialNB(alpha=1)\n",
        "mnb_with_smoothing.fit(X_train, y_train)\n",
        "y_pred_with_smoothing = mnb_with_smoothing.predict(X_test)\n",
        "accuracy_with_smoothing = accuracy_score(y_test, y_pred_with_smoothing)\n",
        "print(\"Accuracy (With Smoothing):\", accuracy_with_smoothing)\n",
        "\n",
        "# Compare results\n",
        "print(\"Difference in Accuracy:\", accuracy_with_smoothing - accuracy_without_smoothing)"
      ],
      "metadata": {
        "colab": {
          "base_uri": "https://localhost:8080/"
        },
        "id": "Z9Uz3vMoqwsZ",
        "outputId": "8d70bb32-6b97-4e7b-e193-68e13987f5c2"
      },
      "execution_count": 11,
      "outputs": [
        {
          "output_type": "stream",
          "name": "stdout",
          "text": [
            "Accuracy (Without Smoothing): 0.09166666666666666\n",
            "Accuracy (With Smoothing): 0.9111111111111111\n",
            "Difference in Accuracy: 0.8194444444444444\n"
          ]
        },
        {
          "output_type": "stream",
          "name": "stderr",
          "text": [
            "/usr/local/lib/python3.11/dist-packages/sklearn/naive_bayes.py:898: RuntimeWarning: divide by zero encountered in log\n",
            "  self.feature_log_prob_ = np.log(smoothed_fc) - np.log(\n",
            "/usr/local/lib/python3.11/dist-packages/sklearn/utils/extmath.py:203: RuntimeWarning: invalid value encountered in matmul\n",
            "  ret = a @ b\n"
          ]
        }
      ]
    },
    {
      "cell_type": "code",
      "source": [
        "#31. Write a Python program to train an SVM Classifier and use GridSearchCV to tune the hyperparameters (C, gamma, kernel).\n",
        "# Import necessary libraries\n",
        "from sklearn.datasets import load_iris\n",
        "from sklearn.model_selection import train_test_split, GridSearchCV\n",
        "from sklearn import svm\n",
        "from sklearn.metrics import accuracy_score, classification_report\n",
        "\n",
        "# Load the Iris dataset\n",
        "iris = load_iris()\n",
        "X = iris.data\n",
        "y = iris.target\n",
        "\n",
        "# Split the dataset into training and testing sets\n",
        "X_train, X_test, y_train, y_test = train_test_split(X, y, test_size=0.2, random_state=42)\n",
        "\n",
        "# Define the hyperparameter grid\n",
        "param_grid = {\n",
        "    'C': [0.1, 1, 10],\n",
        "    'gamma': ['scale', 'auto', 0.1, 1, 10],\n",
        "    'kernel': ['linear', 'rbf', 'poly']\n",
        "}\n",
        "\n",
        "# Train an SVM classifier with GridSearchCV\n",
        "svm_classifier = svm.SVC()\n",
        "grid_search = GridSearchCV(estimator=svm_classifier, param_grid=param_grid, cv=5)\n",
        "grid_search.fit(X_train, y_train)\n",
        "\n",
        "# Get the best hyperparameters and the corresponding model\n",
        "best_params = grid_search.best_params_\n",
        "best_model = grid_search.best_estimator_\n",
        "\n",
        "# Make predictions on the test set\n",
        "y_pred = best_model.predict(X_test)\n",
        "\n",
        "# Evaluate the model\n",
        "accuracy = accuracy_score(y_test, y_pred)\n",
        "print(\"Best Hyperparameters:\", best_params)\n",
        "print(\"Accuracy:\", accuracy)\n",
        "print(\"Classification Report:\")\n",
        "print(classification_report(y_test, y_pred))"
      ],
      "metadata": {
        "colab": {
          "base_uri": "https://localhost:8080/"
        },
        "id": "lTL3yHjmqw1Z",
        "outputId": "93057300-a28e-42e4-be96-8a8ff6002f94"
      },
      "execution_count": 12,
      "outputs": [
        {
          "output_type": "stream",
          "name": "stdout",
          "text": [
            "Best Hyperparameters: {'C': 0.1, 'gamma': 0.1, 'kernel': 'poly'}\n",
            "Accuracy: 1.0\n",
            "Classification Report:\n",
            "              precision    recall  f1-score   support\n",
            "\n",
            "           0       1.00      1.00      1.00        10\n",
            "           1       1.00      1.00      1.00         9\n",
            "           2       1.00      1.00      1.00        11\n",
            "\n",
            "    accuracy                           1.00        30\n",
            "   macro avg       1.00      1.00      1.00        30\n",
            "weighted avg       1.00      1.00      1.00        30\n",
            "\n"
          ]
        }
      ]
    },
    {
      "cell_type": "code",
      "source": [
        "#32. Write a Python program to train an SVM Classifier on an imbalanced dataset and apply class weighting and check if it improves accuracy.\n",
        "# Import necessary libraries\n",
        "from sklearn.datasets import make_classification\n",
        "from sklearn.model_selection import train_test_split\n",
        "from sklearn import svm\n",
        "from sklearn.metrics import accuracy_score, classification_report, confusion_matrix\n",
        "from sklearn.preprocessing import StandardScaler\n",
        "\n",
        "# Generate an imbalanced dataset\n",
        "X, y = make_classification(n_samples=1000, n_features=20, n_informative=10, n_redundant=0, n_repeated=0, n_classes=2, weights=[0.9, 0.1], random_state=42)\n",
        "\n",
        "# Split the dataset into training and testing sets\n",
        "X_train, X_test, y_train, y_test = train_test_split(X, y, test_size=0.2, random_state=42)\n",
        "\n",
        "# Apply feature scaling\n",
        "scaler = StandardScaler()\n",
        "X_train = scaler.fit_transform(X_train)\n",
        "X_test = scaler.transform(X_test)\n",
        "\n",
        "# Train an SVM classifier without class weighting\n",
        "svm_unweighted = svm.SVC(kernel='linear', C=1)\n",
        "svm_unweighted.fit(X_train, y_train)\n",
        "y_pred_unweighted = svm_unweighted.predict(X_test)\n",
        "accuracy_unweighted = accuracy_score(y_test, y_pred_unweighted)\n",
        "print(\"Accuracy (Unweighted):\", accuracy_unweighted)\n",
        "print(\"Classification Report (Unweighted):\")\n",
        "print(classification_report(y_test, y_pred_unweighted))\n",
        "print(\"Confusion Matrix (Unweighted):\")\n",
        "print(confusion_matrix(y_test, y_pred_unweighted))\n",
        "\n",
        "# Train an SVM classifier with class weighting\n",
        "svm_weighted = svm.SVC(kernel='linear', C=1, class_weight='balanced')\n",
        "svm_weighted.fit(X_train, y_train)\n",
        "y_pred_weighted = svm_weighted.predict(X_test)\n",
        "accuracy_weighted = accuracy_score(y_test, y_pred_weighted)\n",
        "print(\"Accuracy (Weighted):\", accuracy_weighted)\n",
        "print(\"Classification Report (Weighted):\")\n",
        "print(classification_report(y_test, y_pred_weighted))\n",
        "print(\"Confusion Matrix (Weighted):\")\n",
        "print(confusion_matrix(y_test, y_pred_weighted))\n",
        "\n",
        "# Compare results\n",
        "print(\"Difference in Accuracy:\", accuracy_weighted - accuracy_unweighted)"
      ],
      "metadata": {
        "colab": {
          "base_uri": "https://localhost:8080/"
        },
        "id": "DCywmv39qw-G",
        "outputId": "d3fe33b4-7bdc-4ab7-b305-6f65a2f15c61"
      },
      "execution_count": 13,
      "outputs": [
        {
          "output_type": "stream",
          "name": "stdout",
          "text": [
            "Accuracy (Unweighted): 0.91\n",
            "Classification Report (Unweighted):\n",
            "              precision    recall  f1-score   support\n",
            "\n",
            "           0       0.91      1.00      0.95       176\n",
            "           1       1.00      0.25      0.40        24\n",
            "\n",
            "    accuracy                           0.91       200\n",
            "   macro avg       0.95      0.62      0.68       200\n",
            "weighted avg       0.92      0.91      0.89       200\n",
            "\n",
            "Confusion Matrix (Unweighted):\n",
            "[[176   0]\n",
            " [ 18   6]]\n",
            "Accuracy (Weighted): 0.77\n",
            "Classification Report (Weighted):\n",
            "              precision    recall  f1-score   support\n",
            "\n",
            "           0       0.96      0.77      0.85       176\n",
            "           1       0.32      0.79      0.45        24\n",
            "\n",
            "    accuracy                           0.77       200\n",
            "   macro avg       0.64      0.78      0.65       200\n",
            "weighted avg       0.89      0.77      0.81       200\n",
            "\n",
            "Confusion Matrix (Weighted):\n",
            "[[135  41]\n",
            " [  5  19]]\n",
            "Difference in Accuracy: -0.14\n"
          ]
        }
      ]
    },
    {
      "cell_type": "code",
      "source": [
        "#33. Write a Python program to implement a Naïve Bayes classifier for spam detection using email data.\n",
        "# Import necessary libraries\n",
        "import pandas as pd\n",
        "from sklearn.model_selection import train_test_split\n",
        "from sklearn.feature_extraction.text import CountVectorizer\n",
        "from sklearn.naive_bayes import MultinomialNB\n",
        "from sklearn.metrics import accuracy_score, classification_report, confusion_matrix\n",
        "\n",
        "# Load the dataset (replace with your own dataset)\n",
        "# For this example, we'll use a simple dataset with two columns: 'email' and 'label' (spam or ham)\n",
        "data = {\n",
        "    'email': ['Get free money now', 'Hello, how are you?', 'Win a prize', 'Meeting on Friday'],\n",
        "    'label': ['spam', 'ham', 'spam', 'ham']\n",
        "}\n",
        "df = pd.DataFrame(data)\n",
        "\n",
        "# Map labels to numerical values\n",
        "df['label'] = df['label'].map({'spam': 1, 'ham': 0})\n",
        "\n",
        "# Split the dataset into training and testing sets\n",
        "X_train, X_test, y_train, y_test = train_test_split(df['email'], df['label'], test_size=0.2, random_state=42)\n",
        "\n",
        "# Create a CountVectorizer object\n",
        "vectorizer = CountVectorizer()\n",
        "\n",
        "# Fit the vectorizer to the training data and transform both the training and testing data\n",
        "X_train_count = vectorizer.fit_transform(X_train)\n",
        "X_test_count = vectorizer.transform(X_test)\n",
        "\n",
        "# Train a Multinomial Naïve Bayes classifier\n",
        "mnb = MultinomialNB()\n",
        "mnb.fit(X_train_count, y_train)\n",
        "\n",
        "# Make predictions on the test set\n",
        "y_pred = mnb.predict(X_test_count)\n",
        "\n",
        "# Evaluate the model\n",
        "accuracy = accuracy_score(y_test, y_pred)\n",
        "print(\"Accuracy:\", accuracy)\n",
        "print(\"Classification Report:\")\n",
        "print(classification_report(y_test, y_pred))\n",
        "print(\"Confusion Matrix:\")\n",
        "print(confusion_matrix(y_test, y_pred))\n",
        "\n",
        "# Test the model with a new email\n",
        "new_email = ['You have won a prize']\n",
        "new_email_count = vectorizer.transform(new_email)\n",
        "prediction = mnb.predict(new_email_count)\n",
        "print(\"Prediction:\", 'spam' if prediction[0] == 1 else 'ham')"
      ],
      "metadata": {
        "colab": {
          "base_uri": "https://localhost:8080/"
        },
        "id": "1mPVPBOFqxHV",
        "outputId": "4fda8ddf-3df9-475b-b18e-0573db50ef9f"
      },
      "execution_count": 14,
      "outputs": [
        {
          "output_type": "stream",
          "name": "stdout",
          "text": [
            "Accuracy: 0.0\n",
            "Classification Report:\n",
            "              precision    recall  f1-score   support\n",
            "\n",
            "           0       0.00      0.00      0.00       1.0\n",
            "           1       0.00      0.00      0.00       0.0\n",
            "\n",
            "    accuracy                           0.00       1.0\n",
            "   macro avg       0.00      0.00      0.00       1.0\n",
            "weighted avg       0.00      0.00      0.00       1.0\n",
            "\n",
            "Confusion Matrix:\n",
            "[[0 1]\n",
            " [0 0]]\n",
            "Prediction: spam\n"
          ]
        },
        {
          "output_type": "stream",
          "name": "stderr",
          "text": [
            "/usr/local/lib/python3.11/dist-packages/sklearn/metrics/_classification.py:1565: UndefinedMetricWarning: Precision is ill-defined and being set to 0.0 in labels with no predicted samples. Use `zero_division` parameter to control this behavior.\n",
            "  _warn_prf(average, modifier, f\"{metric.capitalize()} is\", len(result))\n",
            "/usr/local/lib/python3.11/dist-packages/sklearn/metrics/_classification.py:1565: UndefinedMetricWarning: Recall is ill-defined and being set to 0.0 in labels with no true samples. Use `zero_division` parameter to control this behavior.\n",
            "  _warn_prf(average, modifier, f\"{metric.capitalize()} is\", len(result))\n",
            "/usr/local/lib/python3.11/dist-packages/sklearn/metrics/_classification.py:1565: UndefinedMetricWarning: Precision is ill-defined and being set to 0.0 in labels with no predicted samples. Use `zero_division` parameter to control this behavior.\n",
            "  _warn_prf(average, modifier, f\"{metric.capitalize()} is\", len(result))\n",
            "/usr/local/lib/python3.11/dist-packages/sklearn/metrics/_classification.py:1565: UndefinedMetricWarning: Recall is ill-defined and being set to 0.0 in labels with no true samples. Use `zero_division` parameter to control this behavior.\n",
            "  _warn_prf(average, modifier, f\"{metric.capitalize()} is\", len(result))\n",
            "/usr/local/lib/python3.11/dist-packages/sklearn/metrics/_classification.py:1565: UndefinedMetricWarning: Precision is ill-defined and being set to 0.0 in labels with no predicted samples. Use `zero_division` parameter to control this behavior.\n",
            "  _warn_prf(average, modifier, f\"{metric.capitalize()} is\", len(result))\n",
            "/usr/local/lib/python3.11/dist-packages/sklearn/metrics/_classification.py:1565: UndefinedMetricWarning: Recall is ill-defined and being set to 0.0 in labels with no true samples. Use `zero_division` parameter to control this behavior.\n",
            "  _warn_prf(average, modifier, f\"{metric.capitalize()} is\", len(result))\n"
          ]
        }
      ]
    },
    {
      "cell_type": "code",
      "source": [
        "#34. Write a Python program to train an SVM Classifier and a Naïve Bayes Classifier on the same dataset and compare their accuracy.\n",
        "# Import necessary libraries\n",
        "from sklearn.datasets import load_iris\n",
        "from sklearn.model_selection import train_test_split\n",
        "from sklearn import svm\n",
        "from sklearn.naive_bayes import GaussianNB\n",
        "from sklearn.metrics import accuracy_score\n",
        "\n",
        "# Load the Iris dataset\n",
        "iris = load_iris()\n",
        "X = iris.data\n",
        "y = iris.target\n",
        "\n",
        "# Split the dataset into training and testing sets\n",
        "X_train, X_test, y_train, y_test = train_test_split(X, y, test_size=0.2, random_state=42)\n",
        "\n",
        "# Train an SVM classifier\n",
        "svm_classifier = svm.SVC(kernel='linear', C=1)\n",
        "svm_classifier.fit(X_train, y_train)\n",
        "y_pred_svm = svm_classifier.predict(X_test)\n",
        "accuracy_svm = accuracy_score(y_test, y_pred_svm)\n",
        "print(\"SVM Accuracy:\", accuracy_svm)\n",
        "\n",
        "# Train a Naïve Bayes classifier\n",
        "nb_classifier = GaussianNB()\n",
        "nb_classifier.fit(X_train, y_train)\n",
        "y_pred_nb = nb_classifier.predict(X_test)\n",
        "accuracy_nb = accuracy_score(y_test, y_pred_nb)\n",
        "print(\"Naïve Bayes Accuracy:\", accuracy_nb)\n",
        "\n",
        "# Compare accuracy\n",
        "print(\"Difference in Accuracy:\", accuracy_svm - accuracy_nb)\n",
        "if accuracy_svm > accuracy_nb:\n",
        "    print(\"SVM performs better\")\n",
        "elif accuracy_nb > accuracy_svm:\n",
        "    print(\"Naïve Bayes performs better\")\n",
        "else:\n",
        "    print(\"Both classifiers perform equally well\")"
      ],
      "metadata": {
        "colab": {
          "base_uri": "https://localhost:8080/"
        },
        "id": "VmEDkAR4qxQo",
        "outputId": "9ef05ded-0cf1-4943-87a8-0bd27d4e4c83"
      },
      "execution_count": 15,
      "outputs": [
        {
          "output_type": "stream",
          "name": "stdout",
          "text": [
            "SVM Accuracy: 1.0\n",
            "Naïve Bayes Accuracy: 1.0\n",
            "Difference in Accuracy: 0.0\n",
            "Both classifiers perform equally well\n"
          ]
        }
      ]
    },
    {
      "cell_type": "code",
      "source": [
        "#35. Write a Python program to perform feature selection before training a Naïve Bayes classifier and compare results.\n",
        "# Import necessary libraries\n",
        "from sklearn.datasets import load_iris\n",
        "from sklearn.model_selection import train_test_split\n",
        "from sklearn.naive_bayes import GaussianNB\n",
        "from sklearn.feature_selection import SelectKBest, f_classif\n",
        "from sklearn.metrics import accuracy_score\n",
        "\n",
        "# Load the Iris dataset\n",
        "iris = load_iris()\n",
        "X = iris.data\n",
        "y = iris.target\n",
        "\n",
        "# Split the dataset into training and testing sets\n",
        "X_train, X_test, y_train, y_test = train_test_split(X, y, test_size=0.2, random_state=42)\n",
        "\n",
        "# Train a Naïve Bayes classifier without feature selection\n",
        "nb_classifier = GaussianNB()\n",
        "nb_classifier.fit(X_train, y_train)\n",
        "y_pred_nb = nb_classifier.predict(X_test)\n",
        "accuracy_nb = accuracy_score(y_test, y_pred_nb)\n",
        "print(\"Accuracy without feature selection:\", accuracy_nb)\n",
        "\n",
        "# Perform feature selection using SelectKBest\n",
        "selector = SelectKBest(score_func=f_classif, k=2)\n",
        "X_train_selected = selector.fit_transform(X_train, y_train)\n",
        "X_test_selected = selector.transform(X_test)\n",
        "\n",
        "# Train a Naïve Bayes classifier with feature selection\n",
        "nb_classifier_selected = GaussianNB()\n",
        "nb_classifier_selected.fit(X_train_selected, y_train)\n",
        "y_pred_nb_selected = nb_classifier_selected.predict(X_test_selected)\n",
        "accuracy_nb_selected = accuracy_score(y_test, y_pred_nb_selected)\n",
        "print(\"Accuracy with feature selection:\", accuracy_nb_selected)\n",
        "\n",
        "# Compare results\n",
        "print(\"Difference in Accuracy:\", accuracy_nb_selected - accuracy_nb)\n",
        "if accuracy_nb_selected > accuracy_nb:\n",
        "    print(\"Feature selection improves accuracy\")\n",
        "elif accuracy_nb > accuracy_nb_selected:\n",
        "    print(\"Feature selection reduces accuracy\")\n",
        "else:\n",
        "    print(\"Feature selection has no impact on accuracy\")"
      ],
      "metadata": {
        "colab": {
          "base_uri": "https://localhost:8080/"
        },
        "id": "jkadmKZqqxZz",
        "outputId": "4c952db8-5fcc-4cd6-c149-c2b0af5654be"
      },
      "execution_count": 16,
      "outputs": [
        {
          "output_type": "stream",
          "name": "stdout",
          "text": [
            "Accuracy without feature selection: 1.0\n",
            "Accuracy with feature selection: 1.0\n",
            "Difference in Accuracy: 0.0\n",
            "Feature selection has no impact on accuracy\n"
          ]
        }
      ]
    },
    {
      "cell_type": "code",
      "source": [
        "#36. Write a Python program to train an SVM Classifier using one-vs-rest (OvR) and one-vs-one (OvO) strategies on the Wine dataset and compare their accuracy.\n",
        "# Import necessary libraries\n",
        "from sklearn import datasets\n",
        "from sklearn.model_selection import train_test_split\n",
        "from sklearn import svm\n",
        "from sklearn.metrics import accuracy_score\n",
        "from sklearn.multiclass import OneVsRestClassifier, OneVsOneClassifier\n",
        "\n",
        "# Load the Wine dataset\n",
        "wine = datasets.load_wine()\n",
        "X = wine.data\n",
        "y = wine.target\n",
        "\n",
        "# Split the dataset into training and testing sets\n",
        "X_train, X_test, y_train, y_test = train_test_split(X, y, test_size=0.2, random_state=42)\n",
        "\n",
        "# Train an SVM classifier using one-vs-rest strategy\n",
        "ovr_svm = OneVsRestClassifier(svm.SVC(kernel='linear', C=1))\n",
        "ovr_svm.fit(X_train, y_train)\n",
        "y_pred_ovr = ovr_svm.predict(X_test)\n",
        "accuracy_ovr = accuracy_score(y_test, y_pred_ovr)\n",
        "print(\"Accuracy (One-vs-Rest):\", accuracy_ovr)\n",
        "\n",
        "# Train an SVM classifier using one-vs-one strategy\n",
        "ovo_svm = OneVsOneClassifier(svm.SVC(kernel='linear', C=1))\n",
        "ovo_svm.fit(X_train, y_train)\n",
        "y_pred_ovo = ovo_svm.predict(X_test)\n",
        "accuracy_ovo = accuracy_score(y_test, y_pred_ovo)\n",
        "print(\"Accuracy (One-vs-One):\", accuracy_ovo)\n",
        "\n",
        "# Compare accuracy\n",
        "print(\"Difference in Accuracy:\", accuracy_ovr - accuracy_ovo)\n",
        "if accuracy_ovr > accuracy_ovo:\n",
        "    print(\"One-vs-Rest performs better\")\n",
        "elif accuracy_ovo > accuracy_ovr:\n",
        "    print(\"One-vs-One performs better\")\n",
        "else:\n",
        "    print(\"Both strategies perform equally well\")"
      ],
      "metadata": {
        "colab": {
          "base_uri": "https://localhost:8080/"
        },
        "id": "fruBxJiYqxjU",
        "outputId": "1758d743-c5a8-41a8-b8d5-1071ff6dc9f5"
      },
      "execution_count": 17,
      "outputs": [
        {
          "output_type": "stream",
          "name": "stdout",
          "text": [
            "Accuracy (One-vs-Rest): 1.0\n",
            "Accuracy (One-vs-One): 1.0\n",
            "Difference in Accuracy: 0.0\n",
            "Both strategies perform equally well\n"
          ]
        }
      ]
    },
    {
      "cell_type": "code",
      "source": [
        "#37. Write a Python program to train an SVM Classifier using linear, polynomial, and RBF kernels on the Breast Cancer dataset and compare their accuracy.\n",
        "# Import necessary libraries\n",
        "from sklearn import datasets\n",
        "from sklearn.model_selection import train_test_split\n",
        "from sklearn import svm\n",
        "from sklearn.metrics import accuracy_score\n",
        "from sklearn.preprocessing import StandardScaler\n",
        "\n",
        "# Load the Breast Cancer dataset\n",
        "breast_cancer = datasets.load_breast_cancer()\n",
        "X = breast_cancer.data\n",
        "y = breast_cancer.target\n",
        "\n",
        "# Split the dataset into training and testing sets\n",
        "X_train, X_test, y_train, y_test = train_test_split(X, y, test_size=0.2, random_state=42)\n",
        "\n",
        "# Apply feature scaling\n",
        "scaler = StandardScaler()\n",
        "X_train = scaler.fit_transform(X_train)\n",
        "X_test = scaler.transform(X_test)\n",
        "\n",
        "# Train an SVM classifier using linear kernel\n",
        "svm_linear = svm.SVC(kernel='linear', C=1)\n",
        "svm_linear.fit(X_train, y_train)\n",
        "y_pred_linear = svm_linear.predict(X_test)\n",
        "accuracy_linear = accuracy_score(y_test, y_pred_linear)\n",
        "print(\"Accuracy (Linear Kernel):\", accuracy_linear)\n",
        "\n",
        "# Train an SVM classifier using polynomial kernel\n",
        "svm_poly = svm.SVC(kernel='poly', degree=3, C=1)\n",
        "svm_poly.fit(X_train, y_train)\n",
        "y_pred_poly = svm_poly.predict(X_test)\n",
        "accuracy_poly = accuracy_score(y_test, y_pred_poly)\n",
        "print(\"Accuracy (Polynomial Kernel):\", accuracy_poly)\n",
        "\n",
        "# Train an SVM classifier using RBF kernel\n",
        "svm_rbf = svm.SVC(kernel='rbf', C=1)\n",
        "svm_rbf.fit(X_train, y_train)\n",
        "y_pred_rbf = svm_rbf.predict(X_test)\n",
        "accuracy_rbf = accuracy_score(y_test, y_pred_rbf)\n",
        "print(\"Accuracy (RBF Kernel):\", accuracy_rbf)\n",
        "\n",
        "# Compare accuracy\n",
        "print(\"Comparison of Accuracy:\")\n",
        "print(f\"Linear Kernel: {accuracy_linear:.3f}\")\n",
        "print(f\"Polynomial Kernel: {accuracy_poly:.3f}\")\n",
        "print(f\"RBF Kernel: {accuracy_rbf:.3f}\")\n",
        "\n",
        "if accuracy_linear > accuracy_poly and accuracy_linear > accuracy_rbf:\n",
        "    print(\"Linear kernel performs best\")\n",
        "elif accuracy_poly > accuracy_linear and accuracy_poly > accuracy_rbf:\n",
        "    print(\"Polynomial kernel performs best\")\n",
        "else:\n",
        "    print(\"RBF kernel performs best\")"
      ],
      "metadata": {
        "colab": {
          "base_uri": "https://localhost:8080/"
        },
        "id": "tgUAfd6uqxsb",
        "outputId": "2ae18ce8-ff26-45ac-df45-ac9b0eb91824"
      },
      "execution_count": 18,
      "outputs": [
        {
          "output_type": "stream",
          "name": "stdout",
          "text": [
            "Accuracy (Linear Kernel): 0.956140350877193\n",
            "Accuracy (Polynomial Kernel): 0.868421052631579\n",
            "Accuracy (RBF Kernel): 0.9824561403508771\n",
            "Comparison of Accuracy:\n",
            "Linear Kernel: 0.956\n",
            "Polynomial Kernel: 0.868\n",
            "RBF Kernel: 0.982\n",
            "RBF kernel performs best\n"
          ]
        }
      ]
    },
    {
      "cell_type": "code",
      "source": [
        "#38. Write a Python program to train an SVM Classifier using Stratified K-Fold Cross-Validation and compute the average accuracy.\n",
        "# Import necessary libraries\n",
        "from sklearn import datasets\n",
        "from sklearn.model_selection import StratifiedKFold\n",
        "from sklearn import svm\n",
        "from sklearn.metrics import accuracy_score\n",
        "from sklearn.preprocessing import StandardScaler\n",
        "\n",
        "# Load the dataset (e.g., Iris dataset)\n",
        "iris = datasets.load_iris()\n",
        "X = iris.data\n",
        "y = iris.target\n",
        "\n",
        "# Apply feature scaling\n",
        "scaler = StandardScaler()\n",
        "X = scaler.fit_transform(X)\n",
        "\n",
        "# Define the number of folds for Stratified K-Fold Cross-Validation\n",
        "k = 5\n",
        "skf = StratifiedKFold(n_splits=k, shuffle=True, random_state=42)\n",
        "\n",
        "# Initialize lists to store accuracy scores\n",
        "accuracy_scores = []\n",
        "\n",
        "# Train an SVM classifier using Stratified K-Fold Cross-Validation\n",
        "for train_index, test_index in skf.split(X, y):\n",
        "    X_train, X_test = X[train_index], X[test_index]\n",
        "    y_train, y_test = y[train_index], y[test_index]\n",
        "\n",
        "    # Train an SVM classifier\n",
        "    svm_classifier = svm.SVC(kernel='linear', C=1)\n",
        "    svm_classifier.fit(X_train, y_train)\n",
        "\n",
        "    # Predict and compute accuracy\n",
        "    y_pred = svm_classifier.predict(X_test)\n",
        "    accuracy = accuracy_score(y_test, y_pred)\n",
        "    accuracy_scores.append(accuracy)\n",
        "\n",
        "# Compute the average accuracy\n",
        "average_accuracy = sum(accuracy_scores) / k\n",
        "print(\"Accuracy Scores:\", accuracy_scores)\n",
        "print(\"Average Accuracy:\", average_accuracy)"
      ],
      "metadata": {
        "colab": {
          "base_uri": "https://localhost:8080/"
        },
        "id": "QXP3U-FYqx1U",
        "outputId": "0676e806-97d4-41be-c835-713b455fab38"
      },
      "execution_count": 19,
      "outputs": [
        {
          "output_type": "stream",
          "name": "stdout",
          "text": [
            "Accuracy Scores: [1.0, 1.0, 0.8666666666666667, 1.0, 0.9666666666666667]\n",
            "Average Accuracy: 0.9666666666666666\n"
          ]
        }
      ]
    },
    {
      "cell_type": "code",
      "source": [
        "#39. Write a Python program to train a Naïve Bayes classifier using different prior probabilities and compare performance.\n",
        "# Import necessary libraries\n",
        "from sklearn import datasets\n",
        "from sklearn.model_selection import train_test_split\n",
        "from sklearn.naive_bayes import GaussianNB\n",
        "from sklearn.metrics import accuracy_score\n",
        "\n",
        "# Load the Iris dataset\n",
        "iris = datasets.load_iris()\n",
        "X = iris.data\n",
        "y = iris.target\n",
        "\n",
        "# Split the dataset into training and testing sets\n",
        "X_train, X_test, y_train, y_test = train_test_split(X, y, test_size=0.2, random_state=42)\n",
        "\n",
        "# Train a Naïve Bayes classifier with default prior probabilities\n",
        "gnb_default = GaussianNB()\n",
        "gnb_default.fit(X_train, y_train)\n",
        "y_pred_default = gnb_default.predict(X_test)\n",
        "accuracy_default = accuracy_score(y_test, y_pred_default)\n",
        "print(\"Accuracy (Default Priors):\", accuracy_default)\n",
        "\n",
        "# Train a Naïve Bayes classifier with uniform prior probabilities\n",
        "priors_uniform = [1/len(iris.target_names) for _ in iris.target_names]\n",
        "gnb_uniform = GaussianNB(priors=priors_uniform)\n",
        "gnb_uniform.fit(X_train, y_train)\n",
        "y_pred_uniform = gnb_uniform.predict(X_test)\n",
        "accuracy_uniform = accuracy_score(y_test, y_pred_uniform)\n",
        "print(\"Accuracy (Uniform Priors):\", accuracy_uniform)\n",
        "\n",
        "# Train a Naïve Bayes classifier with custom prior probabilities\n",
        "priors_custom = [0.7, 0.2, 0.1]  # Example custom priors\n",
        "gnb_custom = GaussianNB(priors=priors_custom)\n",
        "gnb_custom.fit(X_train, y_train)\n",
        "y_pred_custom = gnb_custom.predict(X_test)\n",
        "accuracy_custom = accuracy_score(y_test, y_pred_custom)\n",
        "print(\"Accuracy (Custom Priors):\", accuracy_custom)\n",
        "\n",
        "# Compare performance\n",
        "print(\"Comparison of Accuracy:\")\n",
        "print(f\"Default Priors: {accuracy_default:.3f}\")\n",
        "print(f\"Uniform Priors: {accuracy_uniform:.3f}\")\n",
        "print(f\"Custom Priors: {accuracy_custom:.3f}\")\n",
        "\n",
        "if accuracy_default > accuracy_uniform and accuracy_default > accuracy_custom:\n",
        "    print(\"Default priors perform best\")\n",
        "elif accuracy_uniform > accuracy_default and accuracy_uniform > accuracy_custom:\n",
        "    print(\"Uniform priors perform best\")\n",
        "else:\n",
        "    print(\"Custom priors perform best\")"
      ],
      "metadata": {
        "colab": {
          "base_uri": "https://localhost:8080/"
        },
        "id": "fXDzypwmqx_f",
        "outputId": "09b22435-bb80-4b3e-cd42-0f227362a648"
      },
      "execution_count": 20,
      "outputs": [
        {
          "output_type": "stream",
          "name": "stdout",
          "text": [
            "Accuracy (Default Priors): 1.0\n",
            "Accuracy (Uniform Priors): 1.0\n",
            "Accuracy (Custom Priors): 1.0\n",
            "Comparison of Accuracy:\n",
            "Default Priors: 1.000\n",
            "Uniform Priors: 1.000\n",
            "Custom Priors: 1.000\n",
            "Custom priors perform best\n"
          ]
        }
      ]
    },
    {
      "cell_type": "code",
      "source": [
        "#40. Write a Python program to perform Recursive Feature Elimination (RFE) before training an SVM Classifier and compare accuracy.\n",
        "# Import necessary libraries\n",
        "from sklearn import datasets\n",
        "from sklearn.model_selection import train_test_split\n",
        "from sklearn import svm\n",
        "from sklearn.feature_selection import RFE\n",
        "from sklearn.metrics import accuracy_score\n",
        "from sklearn.preprocessing import StandardScaler\n",
        "\n",
        "# Load the dataset (e.g., Iris dataset)\n",
        "iris = datasets.load_iris()\n",
        "X = iris.data\n",
        "y = iris.target\n",
        "\n",
        "# Split the dataset into training and testing sets\n",
        "X_train, X_test, y_train, y_test = train_test_split(X, y, test_size=0.2, random_state=42)\n",
        "\n",
        "# Apply feature scaling\n",
        "scaler = StandardScaler()\n",
        "X_train = scaler.fit_transform(X_train)\n",
        "X_test = scaler.transform(X_test)\n",
        "\n",
        "# Train an SVM classifier without RFE\n",
        "svm_classifier = svm.SVC(kernel='linear', C=1)\n",
        "svm_classifier.fit(X_train, y_train)\n",
        "y_pred = svm_classifier.predict(X_test)\n",
        "accuracy_without_rfe = accuracy_score(y_test, y_pred)\n",
        "print(\"Accuracy without RFE:\", accuracy_without_rfe)\n",
        "\n",
        "# Perform Recursive Feature Elimination (RFE) before training an SVM classifier\n",
        "rfe = RFE(estimator=svm.SVC(kernel='linear', C=1), n_features_to_select=2)\n",
        "X_train_rfe = rfe.fit_transform(X_train, y_train)\n",
        "X_test_rfe = rfe.transform(X_test)\n",
        "\n",
        "# Train an SVM classifier with RFE\n",
        "svm_classifier_rfe = svm.SVC(kernel='linear', C=1)\n",
        "svm_classifier_rfe.fit(X_train_rfe, y_train)\n",
        "y_pred_rfe = svm_classifier_rfe.predict(X_test_rfe)\n",
        "accuracy_with_rfe = accuracy_score(y_test, y_pred_rfe)\n",
        "print(\"Accuracy with RFE:\", accuracy_with_rfe)\n",
        "\n",
        "# Compare accuracy\n",
        "print(\"Difference in Accuracy:\", accuracy_with_rfe - accuracy_without_rfe)\n",
        "if accuracy_with_rfe > accuracy_without_rfe:\n",
        "    print(\"RFE improves accuracy\")\n",
        "elif accuracy_without_rfe > accuracy_with_rfe:\n",
        "    print(\"RFE reduces accuracy\")\n",
        "else:\n",
        "    print(\"RFE has no impact on accuracy\")"
      ],
      "metadata": {
        "colab": {
          "base_uri": "https://localhost:8080/"
        },
        "id": "QUfZ8FLBqyJE",
        "outputId": "6e31dd62-a332-4203-f0aa-2e4da3e2ba0f"
      },
      "execution_count": 21,
      "outputs": [
        {
          "output_type": "stream",
          "name": "stdout",
          "text": [
            "Accuracy without RFE: 0.9666666666666667\n",
            "Accuracy with RFE: 1.0\n",
            "Difference in Accuracy: 0.033333333333333326\n",
            "RFE improves accuracy\n"
          ]
        }
      ]
    },
    {
      "cell_type": "code",
      "source": [
        "#41. Write a Python program to train an SVM Classifier and evaluate its performance using Precision, Recall, and F1-Score instead of accuracy.\n",
        "# Import necessary libraries\n",
        "from sklearn import datasets\n",
        "from sklearn.model_selection import train_test_split\n",
        "from sklearn import svm\n",
        "from sklearn.metrics import precision_score, recall_score, f1_score\n",
        "from sklearn.preprocessing import StandardScaler\n",
        "\n",
        "# Load the dataset (e.g., Iris dataset)\n",
        "iris = datasets.load_iris()\n",
        "X = iris.data\n",
        "y = iris.target\n",
        "\n",
        "# We'll use a binary classification problem, so let's convert the labels to binary\n",
        "# We'll consider class 0 as the positive class and classes 1 and 2 as the negative class\n",
        "y_binary = (y == 0).astype(int)\n",
        "\n",
        "# Split the dataset into training and testing sets\n",
        "X_train, X_test, y_train, y_test = train_test_split(X, y_binary, test_size=0.2, random_state=42)\n",
        "\n",
        "# Apply feature scaling\n",
        "scaler = StandardScaler()\n",
        "X_train = scaler.fit_transform(X_train)\n",
        "X_test = scaler.transform(X_test)\n",
        "\n",
        "# Train an SVM classifier\n",
        "svm_classifier = svm.SVC(kernel='linear', C=1)\n",
        "svm_classifier.fit(X_train, y_train)\n",
        "y_pred = svm_classifier.predict(X_test)\n",
        "\n",
        "# Evaluate the performance of the SVM classifier using Precision, Recall, and F1-Score\n",
        "precision = precision_score(y_test, y_pred)\n",
        "recall = recall_score(y_test, y_pred)\n",
        "f1 = f1_score(y_test, y_pred)\n",
        "\n",
        "print(\"Precision:\", precision)\n",
        "print(\"Recall:\", recall)\n",
        "print(\"F1-Score:\", f1)\n",
        "\n",
        "# Compare the performance metrics\n",
        "print(\"Performance Comparison:\")\n",
        "if precision > recall:\n",
        "    print(\"The model is more precise than sensitive\")\n",
        "elif recall > precision:\n",
        "    print(\"The model is more sensitive than precise\")\n",
        "else:\n",
        "    print(\"The model has balanced precision and recall\")"
      ],
      "metadata": {
        "colab": {
          "base_uri": "https://localhost:8080/"
        },
        "id": "0zv-QtYdqysF",
        "outputId": "3fc0ec21-c280-4a53-ad64-17b455e57dfa"
      },
      "execution_count": 22,
      "outputs": [
        {
          "output_type": "stream",
          "name": "stdout",
          "text": [
            "Precision: 1.0\n",
            "Recall: 1.0\n",
            "F1-Score: 1.0\n",
            "Performance Comparison:\n",
            "The model has balanced precision and recall\n"
          ]
        }
      ]
    },
    {
      "cell_type": "code",
      "source": [
        "#42. Write a Python program to train a Naïve Bayes Classifier and evaluate its performance using Log Loss (Cross-Entropy Loss).\n",
        "# Import necessary libraries\n",
        "from sklearn import datasets\n",
        "from sklearn.model_selection import train_test_split\n",
        "from sklearn.naive_bayes import GaussianNB\n",
        "from sklearn.metrics import log_loss\n",
        "import numpy as np\n",
        "\n",
        "# Load the Iris dataset\n",
        "iris = datasets.load_iris()\n",
        "X = iris.data\n",
        "y = iris.target\n",
        "\n",
        "# Split the dataset into training and testing sets\n",
        "X_train, X_test, y_train, y_test = train_test_split(X, y, test_size=0.2, random_state=42)\n",
        "\n",
        "# Train a Naïve Bayes classifier\n",
        "gnb = GaussianNB()\n",
        "gnb.fit(X_train, y_train)\n",
        "\n",
        "# Predict probabilities\n",
        "y_pred_proba = gnb.predict_proba(X_test)\n",
        "\n",
        "# Evaluate the performance of the Naïve Bayes classifier using Log Loss\n",
        "logloss = log_loss(y_test, y_pred_proba)\n",
        "print(\"Log Loss:\", logloss)"
      ],
      "metadata": {
        "colab": {
          "base_uri": "https://localhost:8080/"
        },
        "id": "sBvfKXLhq0zj",
        "outputId": "5774b63e-7f00-431f-a84c-57e8bd2042f6"
      },
      "execution_count": 23,
      "outputs": [
        {
          "output_type": "stream",
          "name": "stdout",
          "text": [
            "Log Loss: 0.02625269787231071\n"
          ]
        }
      ]
    },
    {
      "cell_type": "code",
      "source": [
        "#43. Write a Python program to train an SVM Classifier and visualize the Confusion Matrix using seaborn.\n",
        "# Import necessary libraries\n",
        "from sklearn import datasets\n",
        "from sklearn.model_selection import train_test_split\n",
        "from sklearn import svm\n",
        "from sklearn.metrics import confusion_matrix\n",
        "import seaborn as sns\n",
        "import matplotlib.pyplot as plt\n",
        "\n",
        "# Load the Iris dataset\n",
        "iris = datasets.load_iris()\n",
        "X = iris.data\n",
        "y = iris.target\n",
        "\n",
        "# Split the dataset into training and testing sets\n",
        "X_train, X_test, y_train, y_test = train_test_split(X, y, test_size=0.2, random_state=42)\n",
        "\n",
        "# Train an SVM classifier\n",
        "svm_classifier = svm.SVC(kernel='linear', C=1)\n",
        "svm_classifier.fit(X_train, y_train)\n",
        "y_pred = svm_classifier.predict(X_test)\n",
        "\n",
        "# Create a Confusion Matrix\n",
        "cm = confusion_matrix(y_test, y_pred)\n",
        "\n",
        "# Visualize the Confusion Matrix using seaborn\n",
        "plt.figure(figsize=(8, 6))\n",
        "sns.heatmap(cm, annot=True, cmap='Blues', fmt='d')\n",
        "plt.xlabel('Predicted Labels')\n",
        "plt.ylabel('True Labels')\n",
        "plt.title('Confusion Matrix')\n",
        "plt.show()"
      ],
      "metadata": {
        "colab": {
          "base_uri": "https://localhost:8080/",
          "height": 564
        },
        "id": "WUmL1YJBq08u",
        "outputId": "aab92fe6-253c-45e6-cd6e-eaf6706af39f"
      },
      "execution_count": 24,
      "outputs": [
        {
          "output_type": "display_data",
          "data": {
            "text/plain": [
              "<Figure size 800x600 with 2 Axes>"
            ],
            "image/png": "[encoded data removed]"
          },
          "metadata": {}
        }
      ]
    },
    {
      "cell_type": "code",
      "source": [
        "#44. Write a Python program to train an SVM Regressor (SVR) and evaluate its performance using Mean Absolute Error (MAE) instead of MSE.\n",
        "# Import necessary libraries\n",
        "from sklearn import datasets\n",
        "from sklearn.model_selection import train_test_split\n",
        "from sklearn import svm\n",
        "from sklearn.metrics import mean_absolute_error\n",
        "from sklearn.preprocessing import StandardScaler\n",
        "\n",
        "# Load the California Housing dataset\n",
        "cal_housing = datasets.fetch_california_housing()\n",
        "X = cal_housing.data\n",
        "y = cal_housing.target\n",
        "\n",
        "# Split the dataset into training and testing sets\n",
        "X_train, X_test, y_train, y_test = train_test_split(X, y, test_size=0.2, random_state=42)\n",
        "\n",
        "# Apply feature scaling\n",
        "scaler = StandardScaler()\n",
        "X_train = scaler.fit_transform(X_train)\n",
        "X_test = scaler.transform(X_test)\n",
        "\n",
        "# Train an SVM Regressor (SVR)\n",
        "svr = svm.SVR(kernel='rbf', C=1)\n",
        "svr.fit(X_train, y_train)\n",
        "y_pred = svr.predict(X_test)\n",
        "\n",
        "# Evaluate the performance of the SVR using Mean Absolute Error (MAE)\n",
        "mae = mean_absolute_error(y_test, y_pred)\n",
        "print(\"Mean Absolute Error (MAE):\", mae)"
      ],
      "metadata": {
        "colab": {
          "base_uri": "https://localhost:8080/"
        },
        "id": "zQ9rB-zPq1GF",
        "outputId": "a0d01177-3191-4841-b462-43edccb2099b"
      },
      "execution_count": 26,
      "outputs": [
        {
          "output_type": "stream",
          "name": "stdout",
          "text": [
            "Mean Absolute Error (MAE): 0.39859828301457567\n"
          ]
        }
      ]
    },
    {
      "cell_type": "code",
      "source": [
        "#45. Write a Python program to train a Naïve Bayes classifier and evaluate its performance using the ROC-AUC score.\n",
        "from sklearn import datasets\n",
        "from sklearn.model_selection import train_test_split\n",
        "from sklearn.naive_bayes import GaussianNB\n",
        "from sklearn.metrics import roc_auc_score\n",
        "from sklearn.preprocessing import StandardScaler\n",
        "\n",
        "# Load the dataset\n",
        "iris = datasets.load_iris()\n",
        "X = iris.data\n",
        "y = iris.target\n",
        "y_binary = (y == 0).astype(int)\n",
        "\n",
        "# Split the dataset\n",
        "X_train, X_test, y_train, y_test = train_test_split(X, y_binary, test_size=0.2, random_state=42)\n",
        "\n",
        "# Apply feature scaling\n",
        "scaler = StandardScaler()\n",
        "X_train = scaler.fit_transform(X_train)\n",
        "X_test = scaler.transform(X_test)\n",
        "\n",
        "# Train a Naïve Bayes classifier\n",
        "gnb = GaussianNB()\n",
        "gnb.fit(X_train, y_train)\n",
        "\n",
        "# Predict probabilities\n",
        "y_pred_proba = gnb.predict_proba(X_test)[:, 1]\n",
        "\n",
        "# Evaluate the performance\n",
        "roc_auc = roc_auc_score(y_test, y_pred_proba)\n",
        "print(\"ROC-AUC Score:\", roc_auc)"
      ],
      "metadata": {
        "colab": {
          "base_uri": "https://localhost:8080/"
        },
        "id": "4T1ANU5kq1RX",
        "outputId": "22e34205-e23f-4453-acc4-3731d585e88c"
      },
      "execution_count": 27,
      "outputs": [
        {
          "output_type": "stream",
          "name": "stdout",
          "text": [
            "ROC-AUC Score: 1.0\n"
          ]
        }
      ]
    },
    {
      "cell_type": "code",
      "source": [
        "#46.  Write a Python program to train an SVM Classifier and visualize the Precision-Recall Curve.\n",
        "# Import necessary libraries\n",
        "from sklearn import datasets\n",
        "from sklearn.model_selection import train_test_split\n",
        "from sklearn import svm\n",
        "from sklearn.metrics import precision_recall_curve, auc\n",
        "from sklearn.preprocessing import StandardScaler\n",
        "import matplotlib.pyplot as plt\n",
        "\n",
        "# Load the dataset (e.g., Iris dataset)\n",
        "iris = datasets.load_iris()\n",
        "X = iris.data\n",
        "y = iris.target\n",
        "\n",
        "# Since Precision-Recall Curve is typically used for binary classification,\n",
        "# let's convert the labels to binary (e.g., class 0 vs rest)\n",
        "y_binary = (y == 0).astype(int)\n",
        "\n",
        "# Split the dataset into training and testing sets\n",
        "X_train, X_test, y_train, y_test = train_test_split(X, y_binary, test_size=0.2, random_state=42)\n",
        "\n",
        "# Apply feature scaling\n",
        "scaler = StandardScaler()\n",
        "X_train = scaler.fit_transform(X_train)\n",
        "X_test = scaler.transform(X_test)\n",
        "\n",
        "# Train an SVM classifier\n",
        "svm_classifier = svm.SVC(kernel='linear', C=1, probability=True)\n",
        "svm_classifier.fit(X_train, y_train)\n",
        "\n",
        "# Predict probabilities\n",
        "y_pred_proba = svm_classifier.predict_proba(X_test)[:, 1]\n",
        "\n",
        "# Compute precision and recall\n",
        "precision, recall, thresholds = precision_recall_curve(y_test, y_pred_proba)\n",
        "auc_precision_recall = auc(recall, precision)\n",
        "\n",
        "# Visualize the Precision-Recall Curve\n",
        "plt.figure(figsize=(8, 6))\n",
        "plt.plot(recall, precision, marker='.', label=f'AUC = {auc_precision_recall:.3f}')\n",
        "plt.xlabel('Recall')\n",
        "plt.ylabel('Precision')\n",
        "plt.title('Precision-Recall Curve')\n",
        "plt.legend()\n",
        "plt.show()"
      ],
      "metadata": {
        "colab": {
          "base_uri": "https://localhost:8080/",
          "height": 564
        },
        "id": "RH8waNWEq1b1",
        "outputId": "0e07dbd3-c279-4e0b-a807-a85ce4a0270c"
      },
      "execution_count": 28,
      "outputs": [
        {
          "output_type": "display_data",
          "data": {
            "text/plain": [
              "<Figure size 800x600 with 1 Axes>"
            ],
            "image/png": "[encoded data removed]"
          },
          "metadata": {}
        }
      ]
    }
  ]
}